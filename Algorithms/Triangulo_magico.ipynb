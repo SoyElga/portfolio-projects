{
 "cells": [
  {
   "cell_type": "markdown",
   "metadata": {},
   "source": [
    "# Triangulo mágico\n",
    "\n",
    "El objetivo es buscar los numeros que se tienen que rellenar de un triangulo dependiendo de los numeros que se encuentran en las aristas del mismo, con el objetivo de que todos los lados del triangulo sumen lo mismo. Los numeros dados previamente no se pueden mover.\n",
    "\n",
    "Para el caso de prueba se usó un triangulo con 3 números por lado"
   ]
  },
  {
   "cell_type": "code",
   "execution_count": 1,
   "metadata": {
    "id": "S78DM1Z1nKi0"
   },
   "outputs": [],
   "source": [
    "#formato de triangulo, cada lista dentro de la lista \"triangulo\" es uno de los\n",
    "#niveles del triangulo\n",
    "\n",
    "triangulo = [[0],[0,2],[1,0,0]]\n"
   ]
  },
  {
   "cell_type": "code",
   "execution_count": 2,
   "metadata": {
    "id": "KCj4gG37nOGq"
   },
   "outputs": [],
   "source": [
    "def imprimirTriangulo(triangulo):\n",
    "  espacios=len(triangulo)-1\n",
    "  for r in triangulo:\n",
    "    print(\" \"*espacios,end = \"\")\n",
    "    for n in r:\n",
    "      print(n,end=\" \")\n",
    "    print(\"\")\n",
    "    espacios -= 1"
   ]
  },
  {
   "cell_type": "code",
   "execution_count": 3,
   "metadata": {
    "id": "wZNYVW7jnOEl"
   },
   "outputs": [],
   "source": [
    "def evaluarTriangulo(triangulo):\n",
    "  arista1 = 0\n",
    "  arista2 = 0\n",
    "  arista3 = 0\n",
    "\n",
    "  #suma de aristas / y \\\n",
    "  for a in triangulo:\n",
    "    if 0 in a:\n",
    "      return False\n",
    "    arista1 += a[0]\n",
    "    arista2 += a[-1]\n",
    "  #suma de arista inferior -\n",
    "  arista3 = sum(triangulo[-1])\n",
    "\n",
    "  return arista1 == arista2 and arista2 == arista3"
   ]
  },
  {
   "cell_type": "code",
   "execution_count": 4,
   "metadata": {
    "id": "I0b2JmU4nOCR"
   },
   "outputs": [],
   "source": [
    "class Nodo:\n",
    "  padre = None\n",
    "  def __init__(self, estado, num):\n",
    "    self.estado = estado\n",
    "    self.siguiente_numero = num"
   ]
  },
  {
   "cell_type": "code",
   "execution_count": 5,
   "metadata": {
    "id": "n5Gqe2w8nOAM"
   },
   "outputs": [],
   "source": [
    "import copy\n",
    "def asignarNuevoEstado(triangulo, nuevo_valor_a_asignar):\n",
    "  nuevos_estados = []\n",
    "  ceros = []\n",
    "\n",
    "  for j,r in enumerate(triangulo):\n",
    "    indices = [i for i, x in enumerate(r) if x == 0]\n",
    "    for i in indices:\n",
    "      ceros.append((j,i))\n",
    "\n",
    "  for i in ceros:\n",
    "    nuevo_estado = copy.deepcopy(triangulo)\n",
    "    nuevo_estado[i[0]][i[1]] = nuevo_valor_a_asignar\n",
    "    nuevos_estados.append(nuevo_estado)\n",
    "\n",
    "  return nuevos_estados"
   ]
  },
  {
   "cell_type": "code",
   "execution_count": 6,
   "metadata": {
    "id": "-sBfWFD9nTU4"
   },
   "outputs": [],
   "source": [
    "def lista_estados(lista):\n",
    "  estados = []\n",
    "  for nodo in lista:\n",
    "    estados.append(nodo.estado)\n",
    "  return estados"
   ]
  },
  {
   "cell_type": "code",
   "execution_count": 7,
   "metadata": {
    "id": "lIuV0f9HnTS9"
   },
   "outputs": [],
   "source": [
    "def algoritmo_de_anchura(triangulo,next_num):\n",
    "  nodo_raiz = Nodo(triangulo,next_num)\n",
    "  if evaluarTriangulo(nodo_raiz.estado):\n",
    "    return nodo_raiz\n",
    "  fifo = []\n",
    "  fifo.append(nodo_raiz)\n",
    "  explored = []\n",
    "  answer = \"No se encontro ninguna respuesta\"\n",
    "  while len(fifo) > 0:\n",
    "    nodo = fifo.pop(0) #se saca el primer elemento de la lista porque fue el primero en entrar, siempre va a sacar algo porque antes se evalua que no este vacia la lista\n",
    "    explored.append(nodo)\n",
    "    for new_nodo in asignarNuevoEstado(nodo.estado, nodo.siguiente_numero):\n",
    "      hijo = Nodo(new_nodo, nodo.siguiente_numero + 1)\n",
    "      hijo.padre = nodo\n",
    "      if hijo.estado not in lista_estados(explored) and hijo.estado not in lista_estados(fifo):\n",
    "        if evaluarTriangulo(hijo.estado):\n",
    "          return hijo\n",
    "        else:\n",
    "          fifo.append(hijo)\n",
    "  return answer"
   ]
  },
  {
   "cell_type": "code",
   "execution_count": 8,
   "metadata": {
    "colab": {
     "base_uri": "https://localhost:8080/"
    },
    "id": "wkXYqFIgnTRO",
    "outputId": "274ef652-8014-467d-cd50-4abae76fdfa2"
   },
   "outputs": [
    {
     "name": "stdout",
     "output_type": "stream",
     "text": [
      "  3 \n",
      " 6 2 \n",
      "1 4 5 \n"
     ]
    }
   ],
   "source": [
    "respuesta = algoritmo_de_anchura(triangulo,3)\n",
    "if type(respuesta) == str:\n",
    "  print(respuesta)\n",
    "else:\n",
    "  imprimirTriangulo(respuesta.estado)\n",
    "\n",
    "# Este mismo algoritmo funciona para cualquier grupo de valores que pueden tomar\n",
    "# un triangulo mágico, no necesariamente tiene que sumar 10, tambien se puede expandir\n",
    "# el triangulo a lados de 4 numeros solo que la impresión del triangulo va a salir mal"
   ]
  }
 ],
 "metadata": {
  "colab": {
   "collapsed_sections": [],
   "name": "Pregunta 10",
   "provenance": []
  },
  "kernelspec": {
   "display_name": "Python 3 (ipykernel)",
   "language": "python",
   "name": "python3"
  },
  "language_info": {
   "codemirror_mode": {
    "name": "ipython",
    "version": 3
   },
   "file_extension": ".py",
   "mimetype": "text/x-python",
   "name": "python",
   "nbconvert_exporter": "python",
   "pygments_lexer": "ipython3",
   "version": "3.11.5"
  }
 },
 "nbformat": 4,
 "nbformat_minor": 1
}
