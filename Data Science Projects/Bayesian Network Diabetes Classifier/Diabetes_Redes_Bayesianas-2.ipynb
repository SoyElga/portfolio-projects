{
 "cells": [
  {
   "cell_type": "markdown",
   "metadata": {
    "id": "bl9Tidzyh0g6"
   },
   "source": [
    "# **PBL 2: Redes Bayesianas** "
   ]
  },
  {
   "cell_type": "markdown",
   "metadata": {},
   "source": [
    "Equipo: \n",
    "\n",
    "* Álvaro David López  - A01570493\n",
    "* Celinna Arellano  - A01730562\n",
    "* Lolyna de la Fuente - A01194774\n",
    "* Luis Gabriel Martínez - A01651812\n",
    "* María del Carmen Vargas - A00828570"
   ]
  },
  {
   "cell_type": "markdown",
   "metadata": {
    "id": "Zo7G3fhhh8zF"
   },
   "source": [
    "## Problematización"
   ]
  },
  {
   "cell_type": "markdown",
   "metadata": {
    "id": "wXmeWn7hiMXu"
   },
   "source": [
    "La diabetes es la segunda causa de muerte en el país, representando el 15.4% de las muertes en México. Este es un problema que ha prevalecido desde hace más de 15 años. En esta base de datos brindada por Kaggle, encontramos diferentes variantes que pueden estar relacionadas con la detección y diagnóstico de diabetes.  Por ejemplo, tenemos números de embarazos, glucosa, presión arterial, insulina, índice de masa muscular, edad, entre otros. Al final, tenemos una variable que se encarga de categorizar los casos como 1 ó 0 (1 siendo positivo en diabetes y 0 siendo negativo). "
   ]
  },
  {
   "cell_type": "markdown",
   "metadata": {
    "id": "jnHGhMMfiQLO"
   },
   "source": [
    "## Enfoque"
   ]
  },
  {
   "cell_type": "markdown",
   "metadata": {
    "id": "Ji_CvJC0iTwL"
   },
   "source": [
    "Se implementó un modelo probabilístico denominado como Redes Bayesianas. Este modelo bayesiano representa un papel muy importante para abordar la solución de esta problemática ya definida anteriormente, ya que además de que tiene una amplia gama de aplicaciones de la vida cotidiana, puede ayudar a mejorar la toma de decisiones dentro del campo del cuidado de la salud. Esto es debido a que puede calcular probabilidades en función de la ocurrencia de otros eventos, favoreciendo directamente en la predicción y diagnóstico de una posible enfermedad dados ciertos síntomas. Con esto en mente, a continuación se describen la serie de pasos que se llevaron a cabo dentro del presente cuaderno de Jupyter:"
   ]
  },
  {
   "cell_type": "markdown",
   "metadata": {
    "id": "0VC3bp50iaEA"
   },
   "source": [
    "### Limpieza y exploración de los datos"
   ]
  },
  {
   "cell_type": "markdown",
   "metadata": {
    "id": "zsLsVOoPidMD"
   },
   "source": [
    "\n",
    "\n",
    "\n",
    "*   Se importan las librerías a utilizar, entre ellas pandas, matplotlib, seaborn, numpy, etc. \n",
    "\n",
    "\n",
    "*   Se descarga el dataset de Kaggle con el que se trabajará: ‘diabetes-dataset.csv’ y se formatea a Data Frame.\n",
    "\n",
    "\n",
    "*   Exploración de los datos: Se obtienen las dimensiones, se visualizan gráficas boxplot para observar los outliers para la variable ‘BMI’ e ‘Insulin’, y por último, se grafica un scatterplot entre ‘Insulin’ y ‘Glucose’. \n",
    "\n",
    "\n",
    "*   Se discretizan las variables ‘Glucose’, ‘BloodPressure’ y ‘BMI’, ya que solo representan un interés aquellos valores mayores de cero.\n",
    "\n",
    "\n",
    "*   Se asigna una nueva columna con la variable ‘Overweight’, en donde los valores deben cumplir con la condición de un índice de masa corporal (BMI) mayor a 25.\n",
    "\n",
    "*   Tomando en cuenta los cambios realizados dentro del data frame, se obtienen gráficas de barras y pie chart de la variable ‘Outcome’.  \n",
    "\n"
   ]
  },
  {
   "cell_type": "markdown",
   "metadata": {
    "id": "lZrI4FWDk1iU"
   },
   "source": [
    "### Implementación de la Red Bayesiana: \n"
   ]
  },
  {
   "cell_type": "markdown",
   "metadata": {
    "id": "QHBWHkuFk5ru"
   },
   "source": [
    "1.   Fase de *training* y *testing* de los datos en donde separamos el 80% de estos hacía *training* y el 20% hacía *testing* de manera aleatoria para poder implementar de manera correcta el modelo probabilístico. \n",
    "\n",
    "\n",
    "2.   Creación de función *count values in range* y *normal prob* en donde se discretizan los datos y las probabilidades se van almacenando en listas y diccionarios.\n",
    "\n",
    "\n",
    "3.   Creación de diccionario monty hall dictionary en donde cada llave es un nodo y el valor de cada llave es la lista de los padres de dicho nodo. \n",
    "\n",
    "\n",
    "4. Para este caso, el **primer nodo** contiene ‘Pregnancies’, ‘Age’, ‘DiabetesPedigreeFunction’ y ‘Overweight’. Se calculan sus probabilidades.\n",
    "\n",
    " El **segundo nodo** contiene las variables ‘SkinThickness’ y ‘BMI’ y se calculan las probabilidades con probabilidad condicional. \n",
    "\n",
    " El **tercer nodo** contiene las variables ‘Glucose’, ‘Insulin’ y ‘BloodPressure’, implementado casi igual que en el segundo nodo. Se calculan sus probabilidades.\n",
    "\n",
    "\n",
    "5. Creación de los nodos y sus correspondientes tablas de probabilidades condicionales.\n",
    "\n",
    "\n",
    "6. Se establece el objeto bbn para graficar los nodos. Dentro de este se asignan qué objetos serán los nodos. \n",
    "\n",
    "\n",
    "7. Se crea otro objeto llamado join tree, el cual ayudará a calcular las probabilidades de algunos eventos dados cierta evidencia.\n",
    "\n",
    "\n",
    "8. Creación de función print probs para imprimir las probabilidades marginales.\n",
    "\n",
    "\n",
    "9. Creación de función potential to series que obtiene las probabilidades de los nodos.\n",
    "\n",
    "\n",
    "10. Creación de función evidence con el propósito de que se puedan re-calcular las probabilidades para cada nodo de las Redes Bayesianas.\n",
    "\n",
    "\n",
    "11. Se crea un diccionario de rangos de cuartiles para cada variable del Data Frame, utilizando los datos encapsulados en el training set.\n",
    "\n",
    "\n",
    "12. Creación de función get quartile y predict diabetes. En predict diabetes se hace uso de get quartile y evidence para realizar la predicción y generar el nodo de ‘Outcome’. Además, aquí es en donde se aplica el ***Modelo Probabilístico** con p asignado a 0.2.\n",
    "\n",
    "\n",
    "13. Adicional a esto, se crea una columna ‘Prediction’, en la cual con el uso de un for se van asignando las predicciones correspondientes.\n",
    "\n",
    "\n",
    "14. Se evalúa el modelo con las métricas confusion matrix, recall, accuracy, precision y F1 score."
   ]
  },
  {
   "cell_type": "markdown",
   "metadata": {
    "id": "zt2ZfYySlqwB"
   },
   "source": [
    "## Propósito"
   ]
  },
  {
   "cell_type": "markdown",
   "metadata": {
    "id": "H_6akjaclsxo"
   },
   "source": [
    "El propósito de este trabajo es ser capaces de categorizar y predecir si un paciente con ciertas características puede o no tener diabetes.  Esto se busca conseguir mediante la implementación del método de redes bayesianas para la clasificación de los datos entre clases (éstas siendo 1= diagnóstico positivo, 0 = diagnóstico negativo).  Con ello, se incluye el deber de implementar los principios probabilísticos de la asociación entre variables aleatorias que se considera en el concepto del grafo probabilístico.\n",
    "\n",
    "\n",
    "El propósito secundario de este reporte también es la demostración de una implementación de dichos principios en forma de código en el lenguaje de programación Python. Esto es, utilizando una serie de datos donde se tienen mediciones de condiciones y estados de pacientes, entre ellas  la métrica de presencia de diabetes para cada paciente. \n"
   ]
  },
  {
   "cell_type": "markdown",
   "metadata": {
    "id": "lJeI3o8Hlwju"
   },
   "source": [
    "## Información"
   ]
  },
  {
   "cell_type": "markdown",
   "metadata": {
    "id": "pPErCrVMlzet"
   },
   "source": [
    "Las redes bayesianas son un tipo de modelo probabilístico gráfico que usa inferencia bayesiana para los cálculos de probabilidad. Su objetivo es modelar la dependencia condicional y, por consiguiente, la causalidad, al representar dependencia condicional en las aristas en un gráfico direccionado. Con este tipo de modelos podemos predecir, clasificar, diagnosticar, entre otras aplicaciones. Lo más importante es observar el comportamiento de las variables del dominio. \n",
    "\n",
    "Dentro de la implementación llevada a cabo para obtener y clasificar el ‘Outcome’ correspondiente de las predicciones finales, se aplicó el **Modelo Probabilístico**. Este consiste primeramente en asignar un valor determinado a un threshold “p” (a disposición de quién lo ejecuta), y establecer una condición en la que, para este caso, si la probabilidad de que la persona padezca diabetes es mayor al threshold p, entonces la predicción se le clasifica como “1”, es decir, que sí padece diabetes. En caso contrario, se clasifica como “0”: que no tiene diabetes. \n",
    "\n",
    "En términos más formales, a continuación se muestra la expresión que satisface el Modelo Probabilístico: \n"
   ]
  },
  {
   "cell_type": "markdown",
   "metadata": {
    "colab": {
     "base_uri": "https://localhost:8080/",
     "height": 130
    },
    "id": "4gpcIHM3l71H",
    "outputId": "09ca72c7-0e19-4f1f-af0f-9b60930edf90"
   },
   "source": [
    "$$\n",
    "\\begin{align}\n",
    "P(spam|w_1\\cap w_2\\cap\\cdots\\cap w_n) > p.\n",
    "\\end{align}\n",
    "$$\n"
   ]
  },
  {
   "cell_type": "markdown",
   "metadata": {
    "id": "V2LQeuj1mJfd"
   },
   "source": [
    "## Razonamiento"
   ]
  },
  {
   "cell_type": "code",
   "execution_count": null,
   "metadata": {
    "id": "kei5GoneBu2S"
   },
   "outputs": [],
   "source": [
    "import pandas as pd\n",
    "import matplotlib.pyplot as plt\n",
    "import seaborn as sns\n",
    "import numpy as np"
   ]
  },
  {
   "cell_type": "code",
   "execution_count": null,
   "metadata": {
    "colab": {
     "base_uri": "https://localhost:8080/",
     "height": 204
    },
    "id": "LWw1FM7TBu2V",
    "outputId": "d337ac55-79c1-463b-fce4-9b475e01a80b",
    "scrolled": true
   },
   "outputs": [
    {
     "data": {
      "text/html": [
       "<div>\n",
       "<style scoped>\n",
       "    .dataframe tbody tr th:only-of-type {\n",
       "        vertical-align: middle;\n",
       "    }\n",
       "\n",
       "    .dataframe tbody tr th {\n",
       "        vertical-align: top;\n",
       "    }\n",
       "\n",
       "    .dataframe thead th {\n",
       "        text-align: right;\n",
       "    }\n",
       "</style>\n",
       "<table border=\"1\" class=\"dataframe\">\n",
       "  <thead>\n",
       "    <tr style=\"text-align: right;\">\n",
       "      <th></th>\n",
       "      <th>Pregnancies</th>\n",
       "      <th>Glucose</th>\n",
       "      <th>BloodPressure</th>\n",
       "      <th>SkinThickness</th>\n",
       "      <th>Insulin</th>\n",
       "      <th>BMI</th>\n",
       "      <th>DiabetesPedigreeFunction</th>\n",
       "      <th>Age</th>\n",
       "      <th>Outcome</th>\n",
       "    </tr>\n",
       "  </thead>\n",
       "  <tbody>\n",
       "    <tr>\n",
       "      <th>0</th>\n",
       "      <td>2</td>\n",
       "      <td>138</td>\n",
       "      <td>62</td>\n",
       "      <td>35</td>\n",
       "      <td>0</td>\n",
       "      <td>33.6</td>\n",
       "      <td>0.127</td>\n",
       "      <td>47</td>\n",
       "      <td>1</td>\n",
       "    </tr>\n",
       "    <tr>\n",
       "      <th>1</th>\n",
       "      <td>0</td>\n",
       "      <td>84</td>\n",
       "      <td>82</td>\n",
       "      <td>31</td>\n",
       "      <td>125</td>\n",
       "      <td>38.2</td>\n",
       "      <td>0.233</td>\n",
       "      <td>23</td>\n",
       "      <td>0</td>\n",
       "    </tr>\n",
       "    <tr>\n",
       "      <th>2</th>\n",
       "      <td>0</td>\n",
       "      <td>145</td>\n",
       "      <td>0</td>\n",
       "      <td>0</td>\n",
       "      <td>0</td>\n",
       "      <td>44.2</td>\n",
       "      <td>0.630</td>\n",
       "      <td>31</td>\n",
       "      <td>1</td>\n",
       "    </tr>\n",
       "    <tr>\n",
       "      <th>3</th>\n",
       "      <td>0</td>\n",
       "      <td>135</td>\n",
       "      <td>68</td>\n",
       "      <td>42</td>\n",
       "      <td>250</td>\n",
       "      <td>42.3</td>\n",
       "      <td>0.365</td>\n",
       "      <td>24</td>\n",
       "      <td>1</td>\n",
       "    </tr>\n",
       "    <tr>\n",
       "      <th>4</th>\n",
       "      <td>1</td>\n",
       "      <td>139</td>\n",
       "      <td>62</td>\n",
       "      <td>41</td>\n",
       "      <td>480</td>\n",
       "      <td>40.7</td>\n",
       "      <td>0.536</td>\n",
       "      <td>21</td>\n",
       "      <td>0</td>\n",
       "    </tr>\n",
       "  </tbody>\n",
       "</table>\n",
       "</div>"
      ],
      "text/plain": [
       "   Pregnancies  Glucose  BloodPressure  ...  DiabetesPedigreeFunction  Age  Outcome\n",
       "0            2      138             62  ...                     0.127   47        1\n",
       "1            0       84             82  ...                     0.233   23        0\n",
       "2            0      145              0  ...                     0.630   31        1\n",
       "3            0      135             68  ...                     0.365   24        1\n",
       "4            1      139             62  ...                     0.536   21        0\n",
       "\n",
       "[5 rows x 9 columns]"
      ]
     },
     "execution_count": 142,
     "metadata": {},
     "output_type": "execute_result"
    }
   ],
   "source": [
    "df = pd.read_csv('diabetes-dataset.csv')\n",
    "df.head()"
   ]
  },
  {
   "cell_type": "code",
   "execution_count": null,
   "metadata": {
    "colab": {
     "base_uri": "https://localhost:8080/"
    },
    "id": "liDfVZ6DBu2W",
    "outputId": "f2ba2f21-1299-483d-fc31-5a8a91214bd3"
   },
   "outputs": [
    {
     "data": {
      "text/plain": [
       "(2000, 9)"
      ]
     },
     "execution_count": 143,
     "metadata": {},
     "output_type": "execute_result"
    }
   ],
   "source": [
    "df.shape"
   ]
  },
  {
   "cell_type": "markdown",
   "metadata": {
    "id": "JLJQDUxvEf3K"
   },
   "source": [
    "#### Limpieza de los datos"
   ]
  },
  {
   "cell_type": "code",
   "execution_count": null,
   "metadata": {
    "colab": {
     "base_uri": "https://localhost:8080/",
     "height": 401
    },
    "id": "BRqDPH-zBu2X",
    "outputId": "15859c1e-0e38-4375-e053-8461fe5863de",
    "scrolled": true
   },
   "outputs": [
    {
     "data": {
      "text/plain": [
       "{'boxes': [<matplotlib.lines.Line2D at 0x7f74ee29a710>],\n",
       " 'caps': [<matplotlib.lines.Line2D at 0x7f74ee2638d0>,\n",
       "  <matplotlib.lines.Line2D at 0x7f74ec9ab050>],\n",
       " 'fliers': [<matplotlib.lines.Line2D at 0x7f74ec9abb10>],\n",
       " 'means': [],\n",
       " 'medians': [<matplotlib.lines.Line2D at 0x7f74ec9ab5d0>],\n",
       " 'whiskers': [<matplotlib.lines.Line2D at 0x7f74ee201c90>,\n",
       "  <matplotlib.lines.Line2D at 0x7f74ee27ca50>]}"
      ]
     },
     "execution_count": 144,
     "metadata": {},
     "output_type": "execute_result"
    },
    {
     "data": {
      "image/png": "[encoded data removed]",
      "text/plain": [
       "<Figure size 432x288 with 1 Axes>"
      ]
     },
     "metadata": {
      "needs_background": "light"
     },
     "output_type": "display_data"
    }
   ],
   "source": [
    "plt.boxplot(df[\"BMI\"])"
   ]
  },
  {
   "cell_type": "code",
   "execution_count": null,
   "metadata": {
    "colab": {
     "base_uri": "https://localhost:8080/"
    },
    "id": "KLUEdFeKBu2Y",
    "outputId": "85fa7782-0bff-4aec-a6dc-f2c11948ebbd"
   },
   "outputs": [
    {
     "data": {
      "text/plain": [
       "(28, 9)"
      ]
     },
     "execution_count": 145,
     "metadata": {},
     "output_type": "execute_result"
    }
   ],
   "source": [
    "df[df[\"BMI\"] == 0].shape"
   ]
  },
  {
   "cell_type": "code",
   "execution_count": null,
   "metadata": {
    "colab": {
     "base_uri": "https://localhost:8080/",
     "height": 401
    },
    "id": "wyE5cjxgXyoc",
    "outputId": "c6590cca-1130-451a-f9bc-7d5bba0783bb"
   },
   "outputs": [
    {
     "data": {
      "text/plain": [
       "{'boxes': [<matplotlib.lines.Line2D at 0x7f74ec98cb10>],\n",
       " 'caps': [<matplotlib.lines.Line2D at 0x7f74ec992ad0>,\n",
       "  <matplotlib.lines.Line2D at 0x7f74ec99a050>],\n",
       " 'fliers': [<matplotlib.lines.Line2D at 0x7f74ec99ab10>],\n",
       " 'means': [],\n",
       " 'medians': [<matplotlib.lines.Line2D at 0x7f74ec99a5d0>],\n",
       " 'whiskers': [<matplotlib.lines.Line2D at 0x7f74ec977ed0>,\n",
       "  <matplotlib.lines.Line2D at 0x7f74ec992590>]}"
      ]
     },
     "execution_count": 146,
     "metadata": {},
     "output_type": "execute_result"
    },
    {
     "data": {
      "image/png": "[encoded data removed]",
      "text/plain": [
       "<Figure size 432x288 with 1 Axes>"
      ]
     },
     "metadata": {
      "needs_background": "light"
     },
     "output_type": "display_data"
    }
   ],
   "source": [
    "plt.boxplot(df[\"Insulin\"])"
   ]
  },
  {
   "cell_type": "code",
   "execution_count": null,
   "metadata": {
    "colab": {
     "base_uri": "https://localhost:8080/",
     "height": 282
    },
    "id": "4I-D54VsBu2Y",
    "outputId": "d1ca4042-2493-43e9-f46f-52b662dd4c9e"
   },
   "outputs": [
    {
     "data": {
      "text/plain": [
       "<matplotlib.collections.PathCollection at 0x7f74ec946950>"
      ]
     },
     "execution_count": 147,
     "metadata": {},
     "output_type": "execute_result"
    },
    {
     "data": {
      "image/png": "[encoded data removed]",
      "text/plain": [
       "<Figure size 432x288 with 1 Axes>"
      ]
     },
     "metadata": {
      "needs_background": "light"
     },
     "output_type": "display_data"
    }
   ],
   "source": [
    "plt.scatter(df[\"Insulin\"], df[\"Glucose\"])"
   ]
  },
  {
   "cell_type": "code",
   "execution_count": null,
   "metadata": {
    "colab": {
     "base_uri": "https://localhost:8080/",
     "height": 419
    },
    "id": "puF0o7AlBu2Z",
    "outputId": "fa0709f5-4c92-4e96-8dc8-4c5450daf71f"
   },
   "outputs": [
    {
     "data": {
      "text/html": [
       "<div>\n",
       "<style scoped>\n",
       "    .dataframe tbody tr th:only-of-type {\n",
       "        vertical-align: middle;\n",
       "    }\n",
       "\n",
       "    .dataframe tbody tr th {\n",
       "        vertical-align: top;\n",
       "    }\n",
       "\n",
       "    .dataframe thead th {\n",
       "        text-align: right;\n",
       "    }\n",
       "</style>\n",
       "<table border=\"1\" class=\"dataframe\">\n",
       "  <thead>\n",
       "    <tr style=\"text-align: right;\">\n",
       "      <th></th>\n",
       "      <th>Pregnancies</th>\n",
       "      <th>Glucose</th>\n",
       "      <th>BloodPressure</th>\n",
       "      <th>SkinThickness</th>\n",
       "      <th>Insulin</th>\n",
       "      <th>BMI</th>\n",
       "      <th>DiabetesPedigreeFunction</th>\n",
       "      <th>Age</th>\n",
       "      <th>Outcome</th>\n",
       "    </tr>\n",
       "  </thead>\n",
       "  <tbody>\n",
       "    <tr>\n",
       "      <th>0</th>\n",
       "      <td>2</td>\n",
       "      <td>138</td>\n",
       "      <td>62</td>\n",
       "      <td>35</td>\n",
       "      <td>0</td>\n",
       "      <td>33.6</td>\n",
       "      <td>0.127</td>\n",
       "      <td>47</td>\n",
       "      <td>1</td>\n",
       "    </tr>\n",
       "    <tr>\n",
       "      <th>1</th>\n",
       "      <td>0</td>\n",
       "      <td>84</td>\n",
       "      <td>82</td>\n",
       "      <td>31</td>\n",
       "      <td>125</td>\n",
       "      <td>38.2</td>\n",
       "      <td>0.233</td>\n",
       "      <td>23</td>\n",
       "      <td>0</td>\n",
       "    </tr>\n",
       "    <tr>\n",
       "      <th>3</th>\n",
       "      <td>0</td>\n",
       "      <td>135</td>\n",
       "      <td>68</td>\n",
       "      <td>42</td>\n",
       "      <td>250</td>\n",
       "      <td>42.3</td>\n",
       "      <td>0.365</td>\n",
       "      <td>24</td>\n",
       "      <td>1</td>\n",
       "    </tr>\n",
       "    <tr>\n",
       "      <th>4</th>\n",
       "      <td>1</td>\n",
       "      <td>139</td>\n",
       "      <td>62</td>\n",
       "      <td>41</td>\n",
       "      <td>480</td>\n",
       "      <td>40.7</td>\n",
       "      <td>0.536</td>\n",
       "      <td>21</td>\n",
       "      <td>0</td>\n",
       "    </tr>\n",
       "    <tr>\n",
       "      <th>5</th>\n",
       "      <td>0</td>\n",
       "      <td>173</td>\n",
       "      <td>78</td>\n",
       "      <td>32</td>\n",
       "      <td>265</td>\n",
       "      <td>46.5</td>\n",
       "      <td>1.159</td>\n",
       "      <td>58</td>\n",
       "      <td>0</td>\n",
       "    </tr>\n",
       "    <tr>\n",
       "      <th>...</th>\n",
       "      <td>...</td>\n",
       "      <td>...</td>\n",
       "      <td>...</td>\n",
       "      <td>...</td>\n",
       "      <td>...</td>\n",
       "      <td>...</td>\n",
       "      <td>...</td>\n",
       "      <td>...</td>\n",
       "      <td>...</td>\n",
       "    </tr>\n",
       "    <tr>\n",
       "      <th>1995</th>\n",
       "      <td>2</td>\n",
       "      <td>75</td>\n",
       "      <td>64</td>\n",
       "      <td>24</td>\n",
       "      <td>55</td>\n",
       "      <td>29.7</td>\n",
       "      <td>0.370</td>\n",
       "      <td>33</td>\n",
       "      <td>0</td>\n",
       "    </tr>\n",
       "    <tr>\n",
       "      <th>1996</th>\n",
       "      <td>8</td>\n",
       "      <td>179</td>\n",
       "      <td>72</td>\n",
       "      <td>42</td>\n",
       "      <td>130</td>\n",
       "      <td>32.7</td>\n",
       "      <td>0.719</td>\n",
       "      <td>36</td>\n",
       "      <td>1</td>\n",
       "    </tr>\n",
       "    <tr>\n",
       "      <th>1997</th>\n",
       "      <td>6</td>\n",
       "      <td>85</td>\n",
       "      <td>78</td>\n",
       "      <td>0</td>\n",
       "      <td>0</td>\n",
       "      <td>31.2</td>\n",
       "      <td>0.382</td>\n",
       "      <td>42</td>\n",
       "      <td>0</td>\n",
       "    </tr>\n",
       "    <tr>\n",
       "      <th>1998</th>\n",
       "      <td>0</td>\n",
       "      <td>129</td>\n",
       "      <td>110</td>\n",
       "      <td>46</td>\n",
       "      <td>130</td>\n",
       "      <td>67.1</td>\n",
       "      <td>0.319</td>\n",
       "      <td>26</td>\n",
       "      <td>1</td>\n",
       "    </tr>\n",
       "    <tr>\n",
       "      <th>1999</th>\n",
       "      <td>2</td>\n",
       "      <td>81</td>\n",
       "      <td>72</td>\n",
       "      <td>15</td>\n",
       "      <td>76</td>\n",
       "      <td>30.1</td>\n",
       "      <td>0.547</td>\n",
       "      <td>25</td>\n",
       "      <td>0</td>\n",
       "    </tr>\n",
       "  </tbody>\n",
       "</table>\n",
       "<p>1888 rows × 9 columns</p>\n",
       "</div>"
      ],
      "text/plain": [
       "      Pregnancies  Glucose  ...  Age  Outcome\n",
       "0               2      138  ...   47        1\n",
       "1               0       84  ...   23        0\n",
       "3               0      135  ...   24        1\n",
       "4               1      139  ...   21        0\n",
       "5               0      173  ...   58        0\n",
       "...           ...      ...  ...  ...      ...\n",
       "1995            2       75  ...   33        0\n",
       "1996            8      179  ...   36        1\n",
       "1997            6       85  ...   42        0\n",
       "1998            0      129  ...   26        1\n",
       "1999            2       81  ...   25        0\n",
       "\n",
       "[1888 rows x 9 columns]"
      ]
     },
     "execution_count": 148,
     "metadata": {},
     "output_type": "execute_result"
    }
   ],
   "source": [
    "df = df[df[\"Glucose\"] > 0]\n",
    "df = df[df[\"BloodPressure\"] > 0]\n",
    "df = df[df[\"BMI\"] > 0]\n",
    "df"
   ]
  },
  {
   "cell_type": "code",
   "execution_count": null,
   "metadata": {
    "colab": {
     "base_uri": "https://localhost:8080/",
     "height": 419
    },
    "id": "XjKxBqBLBu2a",
    "outputId": "b95e702a-e056-4a17-9655-1faf83e62e50"
   },
   "outputs": [
    {
     "data": {
      "text/html": [
       "<div>\n",
       "<style scoped>\n",
       "    .dataframe tbody tr th:only-of-type {\n",
       "        vertical-align: middle;\n",
       "    }\n",
       "\n",
       "    .dataframe tbody tr th {\n",
       "        vertical-align: top;\n",
       "    }\n",
       "\n",
       "    .dataframe thead th {\n",
       "        text-align: right;\n",
       "    }\n",
       "</style>\n",
       "<table border=\"1\" class=\"dataframe\">\n",
       "  <thead>\n",
       "    <tr style=\"text-align: right;\">\n",
       "      <th></th>\n",
       "      <th>index</th>\n",
       "      <th>Pregnancies</th>\n",
       "      <th>Glucose</th>\n",
       "      <th>BloodPressure</th>\n",
       "      <th>SkinThickness</th>\n",
       "      <th>Insulin</th>\n",
       "      <th>BMI</th>\n",
       "      <th>DiabetesPedigreeFunction</th>\n",
       "      <th>Age</th>\n",
       "      <th>Outcome</th>\n",
       "    </tr>\n",
       "  </thead>\n",
       "  <tbody>\n",
       "    <tr>\n",
       "      <th>0</th>\n",
       "      <td>0</td>\n",
       "      <td>2</td>\n",
       "      <td>138</td>\n",
       "      <td>62</td>\n",
       "      <td>35</td>\n",
       "      <td>0</td>\n",
       "      <td>33.6</td>\n",
       "      <td>0.127</td>\n",
       "      <td>47</td>\n",
       "      <td>1</td>\n",
       "    </tr>\n",
       "    <tr>\n",
       "      <th>1</th>\n",
       "      <td>1</td>\n",
       "      <td>0</td>\n",
       "      <td>84</td>\n",
       "      <td>82</td>\n",
       "      <td>31</td>\n",
       "      <td>125</td>\n",
       "      <td>38.2</td>\n",
       "      <td>0.233</td>\n",
       "      <td>23</td>\n",
       "      <td>0</td>\n",
       "    </tr>\n",
       "    <tr>\n",
       "      <th>2</th>\n",
       "      <td>3</td>\n",
       "      <td>0</td>\n",
       "      <td>135</td>\n",
       "      <td>68</td>\n",
       "      <td>42</td>\n",
       "      <td>250</td>\n",
       "      <td>42.3</td>\n",
       "      <td>0.365</td>\n",
       "      <td>24</td>\n",
       "      <td>1</td>\n",
       "    </tr>\n",
       "    <tr>\n",
       "      <th>3</th>\n",
       "      <td>4</td>\n",
       "      <td>1</td>\n",
       "      <td>139</td>\n",
       "      <td>62</td>\n",
       "      <td>41</td>\n",
       "      <td>480</td>\n",
       "      <td>40.7</td>\n",
       "      <td>0.536</td>\n",
       "      <td>21</td>\n",
       "      <td>0</td>\n",
       "    </tr>\n",
       "    <tr>\n",
       "      <th>4</th>\n",
       "      <td>5</td>\n",
       "      <td>0</td>\n",
       "      <td>173</td>\n",
       "      <td>78</td>\n",
       "      <td>32</td>\n",
       "      <td>265</td>\n",
       "      <td>46.5</td>\n",
       "      <td>1.159</td>\n",
       "      <td>58</td>\n",
       "      <td>0</td>\n",
       "    </tr>\n",
       "    <tr>\n",
       "      <th>...</th>\n",
       "      <td>...</td>\n",
       "      <td>...</td>\n",
       "      <td>...</td>\n",
       "      <td>...</td>\n",
       "      <td>...</td>\n",
       "      <td>...</td>\n",
       "      <td>...</td>\n",
       "      <td>...</td>\n",
       "      <td>...</td>\n",
       "      <td>...</td>\n",
       "    </tr>\n",
       "    <tr>\n",
       "      <th>1883</th>\n",
       "      <td>1995</td>\n",
       "      <td>2</td>\n",
       "      <td>75</td>\n",
       "      <td>64</td>\n",
       "      <td>24</td>\n",
       "      <td>55</td>\n",
       "      <td>29.7</td>\n",
       "      <td>0.370</td>\n",
       "      <td>33</td>\n",
       "      <td>0</td>\n",
       "    </tr>\n",
       "    <tr>\n",
       "      <th>1884</th>\n",
       "      <td>1996</td>\n",
       "      <td>8</td>\n",
       "      <td>179</td>\n",
       "      <td>72</td>\n",
       "      <td>42</td>\n",
       "      <td>130</td>\n",
       "      <td>32.7</td>\n",
       "      <td>0.719</td>\n",
       "      <td>36</td>\n",
       "      <td>1</td>\n",
       "    </tr>\n",
       "    <tr>\n",
       "      <th>1885</th>\n",
       "      <td>1997</td>\n",
       "      <td>6</td>\n",
       "      <td>85</td>\n",
       "      <td>78</td>\n",
       "      <td>0</td>\n",
       "      <td>0</td>\n",
       "      <td>31.2</td>\n",
       "      <td>0.382</td>\n",
       "      <td>42</td>\n",
       "      <td>0</td>\n",
       "    </tr>\n",
       "    <tr>\n",
       "      <th>1886</th>\n",
       "      <td>1998</td>\n",
       "      <td>0</td>\n",
       "      <td>129</td>\n",
       "      <td>110</td>\n",
       "      <td>46</td>\n",
       "      <td>130</td>\n",
       "      <td>67.1</td>\n",
       "      <td>0.319</td>\n",
       "      <td>26</td>\n",
       "      <td>1</td>\n",
       "    </tr>\n",
       "    <tr>\n",
       "      <th>1887</th>\n",
       "      <td>1999</td>\n",
       "      <td>2</td>\n",
       "      <td>81</td>\n",
       "      <td>72</td>\n",
       "      <td>15</td>\n",
       "      <td>76</td>\n",
       "      <td>30.1</td>\n",
       "      <td>0.547</td>\n",
       "      <td>25</td>\n",
       "      <td>0</td>\n",
       "    </tr>\n",
       "  </tbody>\n",
       "</table>\n",
       "<p>1888 rows × 10 columns</p>\n",
       "</div>"
      ],
      "text/plain": [
       "      index  Pregnancies  Glucose  ...  DiabetesPedigreeFunction  Age  Outcome\n",
       "0         0            2      138  ...                     0.127   47        1\n",
       "1         1            0       84  ...                     0.233   23        0\n",
       "2         3            0      135  ...                     0.365   24        1\n",
       "3         4            1      139  ...                     0.536   21        0\n",
       "4         5            0      173  ...                     1.159   58        0\n",
       "...     ...          ...      ...  ...                       ...  ...      ...\n",
       "1883   1995            2       75  ...                     0.370   33        0\n",
       "1884   1996            8      179  ...                     0.719   36        1\n",
       "1885   1997            6       85  ...                     0.382   42        0\n",
       "1886   1998            0      129  ...                     0.319   26        1\n",
       "1887   1999            2       81  ...                     0.547   25        0\n",
       "\n",
       "[1888 rows x 10 columns]"
      ]
     },
     "execution_count": 149,
     "metadata": {},
     "output_type": "execute_result"
    }
   ],
   "source": [
    "df.reset_index()"
   ]
  },
  {
   "cell_type": "code",
   "execution_count": null,
   "metadata": {
    "colab": {
     "base_uri": "https://localhost:8080/",
     "height": 419
    },
    "id": "1FBR2J-LBu2a",
    "outputId": "328ec265-37f5-4ac9-8408-c0a39c0ac0fb"
   },
   "outputs": [
    {
     "data": {
      "text/html": [
       "<div>\n",
       "<style scoped>\n",
       "    .dataframe tbody tr th:only-of-type {\n",
       "        vertical-align: middle;\n",
       "    }\n",
       "\n",
       "    .dataframe tbody tr th {\n",
       "        vertical-align: top;\n",
       "    }\n",
       "\n",
       "    .dataframe thead th {\n",
       "        text-align: right;\n",
       "    }\n",
       "</style>\n",
       "<table border=\"1\" class=\"dataframe\">\n",
       "  <thead>\n",
       "    <tr style=\"text-align: right;\">\n",
       "      <th></th>\n",
       "      <th>Pregnancies</th>\n",
       "      <th>Glucose</th>\n",
       "      <th>BloodPressure</th>\n",
       "      <th>SkinThickness</th>\n",
       "      <th>Insulin</th>\n",
       "      <th>BMI</th>\n",
       "      <th>DiabetesPedigreeFunction</th>\n",
       "      <th>Age</th>\n",
       "      <th>Outcome</th>\n",
       "      <th>Overweight</th>\n",
       "    </tr>\n",
       "  </thead>\n",
       "  <tbody>\n",
       "    <tr>\n",
       "      <th>0</th>\n",
       "      <td>2</td>\n",
       "      <td>138</td>\n",
       "      <td>62</td>\n",
       "      <td>35</td>\n",
       "      <td>0</td>\n",
       "      <td>33.6</td>\n",
       "      <td>0.127</td>\n",
       "      <td>47</td>\n",
       "      <td>1</td>\n",
       "      <td>1</td>\n",
       "    </tr>\n",
       "    <tr>\n",
       "      <th>1</th>\n",
       "      <td>0</td>\n",
       "      <td>84</td>\n",
       "      <td>82</td>\n",
       "      <td>31</td>\n",
       "      <td>125</td>\n",
       "      <td>38.2</td>\n",
       "      <td>0.233</td>\n",
       "      <td>23</td>\n",
       "      <td>0</td>\n",
       "      <td>1</td>\n",
       "    </tr>\n",
       "    <tr>\n",
       "      <th>3</th>\n",
       "      <td>0</td>\n",
       "      <td>135</td>\n",
       "      <td>68</td>\n",
       "      <td>42</td>\n",
       "      <td>250</td>\n",
       "      <td>42.3</td>\n",
       "      <td>0.365</td>\n",
       "      <td>24</td>\n",
       "      <td>1</td>\n",
       "      <td>1</td>\n",
       "    </tr>\n",
       "    <tr>\n",
       "      <th>4</th>\n",
       "      <td>1</td>\n",
       "      <td>139</td>\n",
       "      <td>62</td>\n",
       "      <td>41</td>\n",
       "      <td>480</td>\n",
       "      <td>40.7</td>\n",
       "      <td>0.536</td>\n",
       "      <td>21</td>\n",
       "      <td>0</td>\n",
       "      <td>1</td>\n",
       "    </tr>\n",
       "    <tr>\n",
       "      <th>5</th>\n",
       "      <td>0</td>\n",
       "      <td>173</td>\n",
       "      <td>78</td>\n",
       "      <td>32</td>\n",
       "      <td>265</td>\n",
       "      <td>46.5</td>\n",
       "      <td>1.159</td>\n",
       "      <td>58</td>\n",
       "      <td>0</td>\n",
       "      <td>1</td>\n",
       "    </tr>\n",
       "    <tr>\n",
       "      <th>...</th>\n",
       "      <td>...</td>\n",
       "      <td>...</td>\n",
       "      <td>...</td>\n",
       "      <td>...</td>\n",
       "      <td>...</td>\n",
       "      <td>...</td>\n",
       "      <td>...</td>\n",
       "      <td>...</td>\n",
       "      <td>...</td>\n",
       "      <td>...</td>\n",
       "    </tr>\n",
       "    <tr>\n",
       "      <th>1995</th>\n",
       "      <td>2</td>\n",
       "      <td>75</td>\n",
       "      <td>64</td>\n",
       "      <td>24</td>\n",
       "      <td>55</td>\n",
       "      <td>29.7</td>\n",
       "      <td>0.370</td>\n",
       "      <td>33</td>\n",
       "      <td>0</td>\n",
       "      <td>1</td>\n",
       "    </tr>\n",
       "    <tr>\n",
       "      <th>1996</th>\n",
       "      <td>8</td>\n",
       "      <td>179</td>\n",
       "      <td>72</td>\n",
       "      <td>42</td>\n",
       "      <td>130</td>\n",
       "      <td>32.7</td>\n",
       "      <td>0.719</td>\n",
       "      <td>36</td>\n",
       "      <td>1</td>\n",
       "      <td>1</td>\n",
       "    </tr>\n",
       "    <tr>\n",
       "      <th>1997</th>\n",
       "      <td>6</td>\n",
       "      <td>85</td>\n",
       "      <td>78</td>\n",
       "      <td>0</td>\n",
       "      <td>0</td>\n",
       "      <td>31.2</td>\n",
       "      <td>0.382</td>\n",
       "      <td>42</td>\n",
       "      <td>0</td>\n",
       "      <td>1</td>\n",
       "    </tr>\n",
       "    <tr>\n",
       "      <th>1998</th>\n",
       "      <td>0</td>\n",
       "      <td>129</td>\n",
       "      <td>110</td>\n",
       "      <td>46</td>\n",
       "      <td>130</td>\n",
       "      <td>67.1</td>\n",
       "      <td>0.319</td>\n",
       "      <td>26</td>\n",
       "      <td>1</td>\n",
       "      <td>1</td>\n",
       "    </tr>\n",
       "    <tr>\n",
       "      <th>1999</th>\n",
       "      <td>2</td>\n",
       "      <td>81</td>\n",
       "      <td>72</td>\n",
       "      <td>15</td>\n",
       "      <td>76</td>\n",
       "      <td>30.1</td>\n",
       "      <td>0.547</td>\n",
       "      <td>25</td>\n",
       "      <td>0</td>\n",
       "      <td>1</td>\n",
       "    </tr>\n",
       "  </tbody>\n",
       "</table>\n",
       "<p>1888 rows × 10 columns</p>\n",
       "</div>"
      ],
      "text/plain": [
       "      Pregnancies  Glucose  BloodPressure  ...  Age  Outcome  Overweight\n",
       "0               2      138             62  ...   47        1           1\n",
       "1               0       84             82  ...   23        0           1\n",
       "3               0      135             68  ...   24        1           1\n",
       "4               1      139             62  ...   21        0           1\n",
       "5               0      173             78  ...   58        0           1\n",
       "...           ...      ...            ...  ...  ...      ...         ...\n",
       "1995            2       75             64  ...   33        0           1\n",
       "1996            8      179             72  ...   36        1           1\n",
       "1997            6       85             78  ...   42        0           1\n",
       "1998            0      129            110  ...   26        1           1\n",
       "1999            2       81             72  ...   25        0           1\n",
       "\n",
       "[1888 rows x 10 columns]"
      ]
     },
     "execution_count": 150,
     "metadata": {},
     "output_type": "execute_result"
    }
   ],
   "source": [
    "df[\"Overweight\"] = np.where(df[\"BMI\"] >= 25, 1, 0)\n",
    "df"
   ]
  },
  {
   "cell_type": "code",
   "execution_count": null,
   "metadata": {
    "colab": {
     "base_uri": "https://localhost:8080/",
     "height": 313
    },
    "id": "hv77VzYYBu2c",
    "outputId": "1ed0d950-13b2-4a84-f7ee-c402e5a42842",
    "scrolled": true
   },
   "outputs": [
    {
     "data": {
      "text/plain": [
       "<Figure size 720x720 with 0 Axes>"
      ]
     },
     "execution_count": 151,
     "metadata": {},
     "output_type": "execute_result"
    },
    {
     "data": {
      "image/png": "[encoded data removed]",
      "text/plain": [
       "<Figure size 432x288 with 1 Axes>"
      ]
     },
     "metadata": {
      "needs_background": "light"
     },
     "output_type": "display_data"
    },
    {
     "data": {
      "text/plain": [
       "<Figure size 720x720 with 0 Axes>"
      ]
     },
     "metadata": {},
     "output_type": "display_data"
    }
   ],
   "source": [
    "x = df.Outcome.value_counts()\n",
    "sns.countplot(x = \"Outcome\", data = df)\n",
    "\n",
    "plt.figure(figsize=(10,10))"
   ]
  },
  {
   "cell_type": "code",
   "execution_count": null,
   "metadata": {
    "colab": {
     "base_uri": "https://localhost:8080/",
     "height": 248
    },
    "id": "dTuZUKOABu2d",
    "outputId": "585681b8-8ca1-4e82-da1d-88bab59263eb",
    "scrolled": true
   },
   "outputs": [
    {
     "data": {
      "image/png": "[encoded data removed]",
      "text/plain": [
       "<Figure size 432x288 with 1 Axes>"
      ]
     },
     "metadata": {},
     "output_type": "display_data"
    }
   ],
   "source": [
    "labels = [\"No Diabetes\",\"Diabetes\"]\n",
    "\n",
    "plt.pie(x.values, labels= labels, autopct= \"%1.1f%%\") # visualizing using pie\n",
    "plt.show()   "
   ]
  },
  {
   "cell_type": "markdown",
   "metadata": {
    "id": "Xk_79jCNBu2e"
   },
   "source": [
    "# Creación de la red Bayesiana"
   ]
  },
  {
   "cell_type": "code",
   "execution_count": null,
   "metadata": {
    "colab": {
     "base_uri": "https://localhost:8080/",
     "height": 453
    },
    "id": "Ks5Ka7Wd_J1y",
    "outputId": "004e69f6-fa2f-4ccb-e198-06a660dae344"
   },
   "outputs": [
    {
     "name": "stdout",
     "output_type": "stream",
     "text": [
      "(1510, 10)\n",
      "(378, 10)\n"
     ]
    },
    {
     "data": {
      "text/html": [
       "<div>\n",
       "<style scoped>\n",
       "    .dataframe tbody tr th:only-of-type {\n",
       "        vertical-align: middle;\n",
       "    }\n",
       "\n",
       "    .dataframe tbody tr th {\n",
       "        vertical-align: top;\n",
       "    }\n",
       "\n",
       "    .dataframe thead th {\n",
       "        text-align: right;\n",
       "    }\n",
       "</style>\n",
       "<table border=\"1\" class=\"dataframe\">\n",
       "  <thead>\n",
       "    <tr style=\"text-align: right;\">\n",
       "      <th></th>\n",
       "      <th>Pregnancies</th>\n",
       "      <th>Glucose</th>\n",
       "      <th>BloodPressure</th>\n",
       "      <th>SkinThickness</th>\n",
       "      <th>Insulin</th>\n",
       "      <th>BMI</th>\n",
       "      <th>DiabetesPedigreeFunction</th>\n",
       "      <th>Age</th>\n",
       "      <th>Outcome</th>\n",
       "      <th>Overweight</th>\n",
       "    </tr>\n",
       "  </thead>\n",
       "  <tbody>\n",
       "    <tr>\n",
       "      <th>1724</th>\n",
       "      <td>5</td>\n",
       "      <td>104</td>\n",
       "      <td>74</td>\n",
       "      <td>0</td>\n",
       "      <td>0</td>\n",
       "      <td>28.8</td>\n",
       "      <td>0.153</td>\n",
       "      <td>48</td>\n",
       "      <td>0</td>\n",
       "      <td>1</td>\n",
       "    </tr>\n",
       "    <tr>\n",
       "      <th>546</th>\n",
       "      <td>5</td>\n",
       "      <td>187</td>\n",
       "      <td>76</td>\n",
       "      <td>27</td>\n",
       "      <td>207</td>\n",
       "      <td>43.6</td>\n",
       "      <td>1.034</td>\n",
       "      <td>53</td>\n",
       "      <td>1</td>\n",
       "      <td>1</td>\n",
       "    </tr>\n",
       "    <tr>\n",
       "      <th>764</th>\n",
       "      <td>2</td>\n",
       "      <td>122</td>\n",
       "      <td>70</td>\n",
       "      <td>27</td>\n",
       "      <td>0</td>\n",
       "      <td>36.8</td>\n",
       "      <td>0.340</td>\n",
       "      <td>27</td>\n",
       "      <td>0</td>\n",
       "      <td>1</td>\n",
       "    </tr>\n",
       "    <tr>\n",
       "      <th>1681</th>\n",
       "      <td>0</td>\n",
       "      <td>135</td>\n",
       "      <td>94</td>\n",
       "      <td>46</td>\n",
       "      <td>145</td>\n",
       "      <td>40.6</td>\n",
       "      <td>0.284</td>\n",
       "      <td>26</td>\n",
       "      <td>0</td>\n",
       "      <td>1</td>\n",
       "    </tr>\n",
       "    <tr>\n",
       "      <th>1492</th>\n",
       "      <td>2</td>\n",
       "      <td>139</td>\n",
       "      <td>75</td>\n",
       "      <td>0</td>\n",
       "      <td>0</td>\n",
       "      <td>25.6</td>\n",
       "      <td>0.167</td>\n",
       "      <td>29</td>\n",
       "      <td>0</td>\n",
       "      <td>1</td>\n",
       "    </tr>\n",
       "    <tr>\n",
       "      <th>...</th>\n",
       "      <td>...</td>\n",
       "      <td>...</td>\n",
       "      <td>...</td>\n",
       "      <td>...</td>\n",
       "      <td>...</td>\n",
       "      <td>...</td>\n",
       "      <td>...</td>\n",
       "      <td>...</td>\n",
       "      <td>...</td>\n",
       "      <td>...</td>\n",
       "    </tr>\n",
       "    <tr>\n",
       "      <th>1118</th>\n",
       "      <td>1</td>\n",
       "      <td>199</td>\n",
       "      <td>76</td>\n",
       "      <td>43</td>\n",
       "      <td>0</td>\n",
       "      <td>42.9</td>\n",
       "      <td>1.394</td>\n",
       "      <td>22</td>\n",
       "      <td>1</td>\n",
       "      <td>1</td>\n",
       "    </tr>\n",
       "    <tr>\n",
       "      <th>662</th>\n",
       "      <td>8</td>\n",
       "      <td>167</td>\n",
       "      <td>106</td>\n",
       "      <td>46</td>\n",
       "      <td>231</td>\n",
       "      <td>37.6</td>\n",
       "      <td>0.165</td>\n",
       "      <td>43</td>\n",
       "      <td>1</td>\n",
       "      <td>1</td>\n",
       "    </tr>\n",
       "    <tr>\n",
       "      <th>142</th>\n",
       "      <td>2</td>\n",
       "      <td>108</td>\n",
       "      <td>52</td>\n",
       "      <td>26</td>\n",
       "      <td>63</td>\n",
       "      <td>32.5</td>\n",
       "      <td>0.318</td>\n",
       "      <td>22</td>\n",
       "      <td>0</td>\n",
       "      <td>1</td>\n",
       "    </tr>\n",
       "    <tr>\n",
       "      <th>1521</th>\n",
       "      <td>8</td>\n",
       "      <td>74</td>\n",
       "      <td>70</td>\n",
       "      <td>40</td>\n",
       "      <td>49</td>\n",
       "      <td>35.3</td>\n",
       "      <td>0.705</td>\n",
       "      <td>39</td>\n",
       "      <td>0</td>\n",
       "      <td>1</td>\n",
       "    </tr>\n",
       "    <tr>\n",
       "      <th>1615</th>\n",
       "      <td>5</td>\n",
       "      <td>103</td>\n",
       "      <td>108</td>\n",
       "      <td>37</td>\n",
       "      <td>0</td>\n",
       "      <td>39.2</td>\n",
       "      <td>0.305</td>\n",
       "      <td>65</td>\n",
       "      <td>0</td>\n",
       "      <td>1</td>\n",
       "    </tr>\n",
       "  </tbody>\n",
       "</table>\n",
       "<p>1510 rows × 10 columns</p>\n",
       "</div>"
      ],
      "text/plain": [
       "      Pregnancies  Glucose  BloodPressure  ...  Age  Outcome  Overweight\n",
       "1724            5      104             74  ...   48        0           1\n",
       "546             5      187             76  ...   53        1           1\n",
       "764             2      122             70  ...   27        0           1\n",
       "1681            0      135             94  ...   26        0           1\n",
       "1492            2      139             75  ...   29        0           1\n",
       "...           ...      ...            ...  ...  ...      ...         ...\n",
       "1118            1      199             76  ...   22        1           1\n",
       "662             8      167            106  ...   43        1           1\n",
       "142             2      108             52  ...   22        0           1\n",
       "1521            8       74             70  ...   39        0           1\n",
       "1615            5      103            108  ...   65        0           1\n",
       "\n",
       "[1510 rows x 10 columns]"
      ]
     },
     "execution_count": 153,
     "metadata": {},
     "output_type": "execute_result"
    }
   ],
   "source": [
    "#Generamos dos sets, uno para la fase de entrenamiento y otro para la fase de prueba\n",
    "np.random.seed(298347) \n",
    "number_of_rows = df.shape[0]\n",
    "index_train = np.random.choice(range(number_of_rows), int(0.8 * number_of_rows), replace=False)\n",
    "index_test = np.asarray(list(set(range(number_of_rows)) - set(index_train)))\n",
    "train_set = df.iloc[index_train] \n",
    "test_set = df.iloc[index_test] \n",
    "print(train_set.shape)\n",
    "print(test_set.shape)\n",
    "train_set"
   ]
  },
  {
   "cell_type": "code",
   "execution_count": null,
   "metadata": {
    "colab": {
     "base_uri": "https://localhost:8080/"
    },
    "id": "Bw9VBbtpBu2f",
    "outputId": "5779b202-6369-4941-c8dd-cc7be5f68547"
   },
   "outputs": [
    {
     "name": "stdout",
     "output_type": "stream",
     "text": [
      "Requirement already satisfied: pybbn in /usr/local/lib/python3.7/dist-packages (3.2.1)\n",
      "Requirement already satisfied: numpy in /usr/local/lib/python3.7/dist-packages (from pybbn) (1.19.5)\n",
      "Requirement already satisfied: networkx in /usr/local/lib/python3.7/dist-packages (from pybbn) (2.6.2)\n",
      "Requirement already satisfied: scipy in /usr/local/lib/python3.7/dist-packages (from pybbn) (1.4.1)\n",
      "Requirement already satisfied: pandas in /usr/local/lib/python3.7/dist-packages (from pybbn) (1.1.5)\n",
      "Requirement already satisfied: pytz>=2017.2 in /usr/local/lib/python3.7/dist-packages (from pandas->pybbn) (2018.9)\n",
      "Requirement already satisfied: python-dateutil>=2.7.3 in /usr/local/lib/python3.7/dist-packages (from pandas->pybbn) (2.8.2)\n",
      "Requirement already satisfied: six>=1.5 in /usr/local/lib/python3.7/dist-packages (from python-dateutil>=2.7.3->pandas->pybbn) (1.15.0)\n"
     ]
    }
   ],
   "source": [
    "#Importamos todas las librerías que vamos a usar para la red bayesiana\n",
    "!pip install pybbn\n",
    "import networkx as nx # for drawing graphs\n",
    "\n",
    "# for creating Bayesian Belief Networks (BBN)\n",
    "from pybbn.graph.dag import Bbn\n",
    "from pybbn.graph.edge import Edge, EdgeType\n",
    "from pybbn.graph.jointree import EvidenceBuilder\n",
    "from pybbn.graph.node import BbnNode\n",
    "from pybbn.graph.variable import Variable\n",
    "from pybbn.pptc.inferencecontroller import InferenceController"
   ]
  },
  {
   "cell_type": "code",
   "execution_count": null,
   "metadata": {
    "id": "BvRV-xfxBu2f"
   },
   "outputs": [],
   "source": [
    "#Se discretizan los datos y se almacenan las probabilidades en listas y diccionarios\n",
    "def count_values_in_range(data, ranges):\n",
    "    range_counts = {}\n",
    "    \n",
    "    for r in ranges:\n",
    "        range_counts[\"<=\"+str(r)] = 0\n",
    "    range_counts[\">\"+str(ranges[-1])] = 0\n",
    "    \n",
    "    for i in data:\n",
    "        if i <= ranges[0]:\n",
    "            range_counts[\"<=\"+str(ranges[0])] += 1\n",
    "        elif i <= ranges[1]:\n",
    "            range_counts[\"<=\"+str(ranges[1])] += 1\n",
    "        elif i <= ranges[2]:\n",
    "            range_counts[\"<=\"+str(ranges[2])] += 1\n",
    "        else:\n",
    "            range_counts[\">\"+str(ranges[-1])] += 1\n",
    "    \n",
    "    return range_counts"
   ]
  },
  {
   "cell_type": "code",
   "execution_count": null,
   "metadata": {
    "colab": {
     "base_uri": "https://localhost:8080/"
    },
    "id": "4q21ZmdvBu2g",
    "outputId": "fb95fd28-1ff3-4908-ec93-854f2f7b2c3c"
   },
   "outputs": [
    {
     "data": {
      "text/plain": [
       "{'Age': {'<=24.0': 445, '<=29.0': 351, '<=40.0': 339, '>40.0': 375},\n",
       " 'DiabetesPedigreeFunction': {'<=0.24100000000000002': 379,\n",
       "  '<=0.37': 380,\n",
       "  '<=0.61375': 373,\n",
       "  '>0.61375': 378},\n",
       " 'Pregnancies': {'<=1.0': 487, '<=3.0': 359, '<=6.0': 357, '>6.0': 307}}"
      ]
     },
     "execution_count": 156,
     "metadata": {},
     "output_type": "execute_result"
    }
   ],
   "source": [
    "cols = ['Pregnancies', 'DiabetesPedigreeFunction', 'Age']\n",
    "nums = {}\n",
    "for col in cols:\n",
    "    ranges = [train_set[col].describe().loc[\"25%\"],train_set[col].describe().loc[\"50%\"],train_set[col].describe().loc[\"75%\"]]\n",
    "    nums[col] = count_values_in_range(train_set[col],ranges)\n",
    "nums"
   ]
  },
  {
   "cell_type": "code",
   "execution_count": null,
   "metadata": {
    "id": "NwskdjH5Bu2g"
   },
   "outputs": [],
   "source": [
    "def normal_prob(nums):\n",
    "    probs = []\n",
    "    total = sum(nums.values())\n",
    "    for v in nums.values():\n",
    "        probs.append(v/total)\n",
    "    return probs\n",
    "        "
   ]
  },
  {
   "cell_type": "code",
   "execution_count": null,
   "metadata": {
    "id": "hDzHfKe8Bu2g"
   },
   "outputs": [],
   "source": [
    "#Para los primeros nodos vamos a calcular probabilidad sencilla\n",
    "monty_problem_dictionary = {\n",
    "    'Pregnancies' : [],\n",
    "    'Age' : [],\n",
    "    'DiabetesPedigreeFunction' : [],\n",
    "    'Overweight' : [],\n",
    "    'Outcome' : ['Pregnancies', 'Age', 'DiabetesPedigreeFunction', 'Overweight'],\n",
    "    'SkinThickness' : ['Overweight'],\n",
    "    'BMI' : ['Overweight'],\n",
    "    'Glucose' : ['Outcome'],\n",
    "    'Insulin' : ['Outcome'],\n",
    "    'BloodPressure' : ['Outcome', 'Overweight']\n",
    "}\n",
    "\n",
    "first_nodes = ['Pregnancies', 'Age', 'DiabetesPedigreeFunction', 'Overweight']\n",
    "Pregnancies = normal_prob(nums['Pregnancies'])\n",
    "Age = normal_prob(nums['Age'])\n",
    "DiabetesPedigreeFunction = normal_prob(nums['DiabetesPedigreeFunction'])\n",
    "Overweight = [len(train_set[train_set['Overweight'] == 0])/len(train_set['Overweight']), len(train_set[train_set['Overweight'] == 1])/len(train_set['Overweight'])]"
   ]
  },
  {
   "cell_type": "code",
   "execution_count": null,
   "metadata": {
    "colab": {
     "base_uri": "https://localhost:8080/"
    },
    "id": "L37yngu7Bu2h",
    "outputId": "5b7d6039-0d62-4a0f-c4dd-07f9bbfd8e20"
   },
   "outputs": [
    {
     "data": {
      "text/plain": [
       "[1.0,\n",
       " 0.0,\n",
       " 0.9268292682926829,\n",
       " 0.07317073170731707,\n",
       " 1.0,\n",
       " 0.0,\n",
       " 0.8461538461538463,\n",
       " 0.15384615384615385,\n",
       " 1.0,\n",
       " 0.0,\n",
       " 0.8352941176470587,\n",
       " 0.16470588235294117,\n",
       " 1.0,\n",
       " 0.0,\n",
       " 0.8202764976958525,\n",
       " 0.17972350230414746,\n",
       " 1.0,\n",
       " 0.0,\n",
       " 0.8928571428571428,\n",
       " 0.10714285714285714,\n",
       " 1.0,\n",
       " 0.0,\n",
       " 0.8032786885245902,\n",
       " 0.19672131147540983,\n",
       " 1.0,\n",
       " 0.0,\n",
       " 0.8200836820083681,\n",
       " 0.1799163179916318,\n",
       " 1.0,\n",
       " 0.0,\n",
       " 0.7707006369426751,\n",
       " 0.22929936305732485,\n",
       " 1.0,\n",
       " 0.0,\n",
       " 0.84375,\n",
       " 0.15625,\n",
       " 1.0,\n",
       " 0.0,\n",
       " 0.7272727272727273,\n",
       " 0.2727272727272727,\n",
       " 0.9705882352941178,\n",
       " 0.029411764705882353,\n",
       " 0.7680608365019012,\n",
       " 0.23193916349809884,\n",
       " 0.9743589743589745,\n",
       " 0.025641025641025644,\n",
       " 0.7170868347338936,\n",
       " 0.28291316526610644,\n",
       " 1.0,\n",
       " 0.0,\n",
       " 0.8026315789473684,\n",
       " 0.19736842105263158,\n",
       " 1.0,\n",
       " 0.0,\n",
       " 0.6705882352941176,\n",
       " 0.32941176470588235,\n",
       " 0.9714285714285714,\n",
       " 0.02857142857142857,\n",
       " 0.7278911564625851,\n",
       " 0.272108843537415,\n",
       " 0.9523809523809524,\n",
       " 0.04761904761904762,\n",
       " 0.6873449131513648,\n",
       " 0.31265508684863524,\n",
       " 1.0,\n",
       " 0.0,\n",
       " 0.8800000000000001,\n",
       " 0.12000000000000001,\n",
       " 1.0,\n",
       " 0.0,\n",
       " 0.8455882352941176,\n",
       " 0.15441176470588236,\n",
       " 1.0,\n",
       " 0.0,\n",
       " 0.84375,\n",
       " 0.15625,\n",
       " 0.972972972972973,\n",
       " 0.02702702702702703,\n",
       " 0.8293413173652695,\n",
       " 0.17065868263473055,\n",
       " 1.0,\n",
       " 0.0,\n",
       " 0.7886178861788617,\n",
       " 0.2113821138211382,\n",
       " 1.0,\n",
       " 0.0,\n",
       " 0.7768595041322314,\n",
       " 0.2231404958677686,\n",
       " 1.0,\n",
       " 0.0,\n",
       " 0.795673076923077,\n",
       " 0.2043269230769231,\n",
       " 0.9827586206896552,\n",
       " 0.017241379310344827,\n",
       " 0.7658802177858438,\n",
       " 0.23411978221415608,\n",
       " 1.0,\n",
       " 0.0,\n",
       " 0.7872340425531914,\n",
       " 0.2127659574468085,\n",
       " 1.0,\n",
       " 0.0,\n",
       " 0.7301038062283736,\n",
       " 0.26989619377162627,\n",
       " 0.9807692307692308,\n",
       " 0.019230769230769232,\n",
       " 0.7521008403361344,\n",
       " 0.2478991596638655,\n",
       " 0.9692307692307693,\n",
       " 0.03076923076923077,\n",
       " 0.7145085803432137,\n",
       " 0.28549141965678626,\n",
       " 1.0,\n",
       " 0.0,\n",
       " 0.7692307692307693,\n",
       " 0.2307692307692308,\n",
       " 1.0,\n",
       " 0.0,\n",
       " 0.7021276595744681,\n",
       " 0.2978723404255319,\n",
       " 0.9814814814814815,\n",
       " 0.018518518518518517,\n",
       " 0.7251908396946566,\n",
       " 0.2748091603053435,\n",
       " 0.9565217391304348,\n",
       " 0.043478260869565216,\n",
       " 0.692090395480226,\n",
       " 0.307909604519774,\n",
       " 1.0,\n",
       " 0.0,\n",
       " 0.8941176470588235,\n",
       " 0.10588235294117647,\n",
       " 1.0,\n",
       " 0.0,\n",
       " 0.8653846153846154,\n",
       " 0.1346153846153846,\n",
       " 1.0,\n",
       " 0.0,\n",
       " 0.8571428571428572,\n",
       " 0.14285714285714285,\n",
       " 0.975,\n",
       " 0.025,\n",
       " 0.8292011019283747,\n",
       " 0.17079889807162535,\n",
       " 1.0,\n",
       " 0.0,\n",
       " 0.8039215686274509,\n",
       " 0.19607843137254902,\n",
       " 1.0,\n",
       " 0.0,\n",
       " 0.7894736842105263,\n",
       " 0.21052631578947367,\n",
       " 1.0,\n",
       " 0.0,\n",
       " 0.7933070866141732,\n",
       " 0.20669291338582674,\n",
       " 0.984375,\n",
       " 0.015625,\n",
       " 0.766566265060241,\n",
       " 0.23343373493975902,\n",
       " 1.0,\n",
       " 0.0,\n",
       " 0.76,\n",
       " 0.24,\n",
       " 1.0,\n",
       " 0.0,\n",
       " 0.7180094786729859,\n",
       " 0.28199052132701424,\n",
       " 0.9838709677419355,\n",
       " 0.016129032258064516,\n",
       " 0.7378787878787879,\n",
       " 0.2621212121212121,\n",
       " 0.9738562091503268,\n",
       " 0.026143790849673203,\n",
       " 0.709049255441008,\n",
       " 0.290950744558992,\n",
       " 0.8947368421052632,\n",
       " 0.10526315789473684,\n",
       " 0.7224489795918367,\n",
       " 0.27755102040816326,\n",
       " 0.9245283018867924,\n",
       " 0.07547169811320754,\n",
       " 0.6881091617933723,\n",
       " 0.31189083820662766,\n",
       " 0.9285714285714285,\n",
       " 0.07142857142857142,\n",
       " 0.7,\n",
       " 0.3,\n",
       " 0.9195402298850575,\n",
       " 0.08045977011494254,\n",
       " 0.6754130223517979,\n",
       " 0.3245869776482021,\n",
       " 1.0,\n",
       " 0.0,\n",
       " 0.8941176470588235,\n",
       " 0.10588235294117647,\n",
       " 1.0,\n",
       " 0.0,\n",
       " 0.8544303797468354,\n",
       " 0.14556962025316456,\n",
       " 1.0,\n",
       " 0.0,\n",
       " 0.851063829787234,\n",
       " 0.14893617021276595,\n",
       " 0.975,\n",
       " 0.025,\n",
       " 0.8246575342465754,\n",
       " 0.17534246575342466,\n",
       " 1.0,\n",
       " 0.0,\n",
       " 0.8039215686274509,\n",
       " 0.19607843137254902,\n",
       " 1.0,\n",
       " 0.0,\n",
       " 0.7792207792207793,\n",
       " 0.22077922077922077,\n",
       " 1.0,\n",
       " 0.0,\n",
       " 0.787109375,\n",
       " 0.212890625,\n",
       " 0.984375,\n",
       " 0.015625,\n",
       " 0.7619760479041916,\n",
       " 0.2380239520958084,\n",
       " 1.0,\n",
       " 0.0,\n",
       " 0.7523364485981308,\n",
       " 0.24766355140186916,\n",
       " 1.0,\n",
       " 0.0,\n",
       " 0.7060085836909872,\n",
       " 0.2939914163090129,\n",
       " 0.9846153846153847,\n",
       " 0.015384615384615385,\n",
       " 0.7192254495159058,\n",
       " 0.28077455048409405,\n",
       " 0.975609756097561,\n",
       " 0.024390243902439022,\n",
       " 0.678681771369722,\n",
       " 0.32131822863027804,\n",
       " 0.8857142857142857,\n",
       " 0.11428571428571428,\n",
       " 0.6957928802588997,\n",
       " 0.3042071197411003,\n",
       " 0.9159663865546218,\n",
       " 0.08403361344537814,\n",
       " 0.65625,\n",
       " 0.34375,\n",
       " 0.9245283018867925,\n",
       " 0.07547169811320754,\n",
       " 0.6628982528263104,\n",
       " 0.3371017471736896,\n",
       " 0.9211822660098522,\n",
       " 0.07881773399014778,\n",
       " 0.6174445294567712,\n",
       " 0.3825554705432288]"
      ]
     },
     "execution_count": 159,
     "metadata": {},
     "output_type": "execute_result"
    }
   ],
   "source": [
    "#Los siguientes nodos requieren de una fucnión diferente, ya que se van a calcular con probabilidad condicional\n",
    "second_nodes = [\"Outcome\", \"SkinThickness\", \"BMI\"]\n",
    "#Calculamos las probabilidades de Outcome usando probabilidad condicional\n",
    "Diabetes = []\n",
    "\n",
    "rangos_4 = ['25%','50%','75%','max']\n",
    "rangos_2 = [0,1]\n",
    "\n",
    "for p in range(4):\n",
    "  for a in range(4):\n",
    "    for dpf in range(4):\n",
    "      for o in range(2):\n",
    "        for diabetes in range(2):\n",
    "          total_intersection = len(train_set[\n",
    "                        (train_set[\"Pregnancies\"] <= train_set['Pregnancies'].describe().loc[rangos_4[p]]) &\n",
    "                        (train_set[\"Age\"] <= train_set['Age'].describe().loc[rangos_4[a]]) &\n",
    "                        (train_set[\"DiabetesPedigreeFunction\"] <= train_set['DiabetesPedigreeFunction'].describe().loc[rangos_4[dpf]]) &\n",
    "                        (train_set[\"Overweight\"] == rangos_2[o]) &\n",
    "                        (train_set[\"Outcome\"] == rangos_2[diabetes])\n",
    "          ])\n",
    "          total_A = len(train_set[\n",
    "                        (train_set[\"Pregnancies\"] <= train_set['Pregnancies'].describe().loc[rangos_4[p]]) &\n",
    "                        (train_set[\"Age\"] <= train_set['Age'].describe().loc[rangos_4[a]]) &\n",
    "                        (train_set[\"DiabetesPedigreeFunction\"] <= train_set['DiabetesPedigreeFunction'].describe().loc[rangos_4[dpf]]) &\n",
    "                        (train_set[\"Overweight\"] == rangos_2[o])\n",
    "          ])\n",
    "          P_intersection = total_intersection/len(train_set)\n",
    "          P_A = total_A/len(train_set)\n",
    "          Diabetes.append(P_intersection/P_A)\n",
    "\n",
    "Diabetes"
   ]
  },
  {
   "cell_type": "code",
   "execution_count": null,
   "metadata": {
    "id": "-1fpLDSEGbTX"
   },
   "outputs": [],
   "source": [
    "Skin = []\n",
    "BMI = []\n",
    "for d in range(2):\n",
    "  for snb in range(4):\n",
    "    total_skin_intersection = len(train_set[\n",
    "                        (train_set['Overweight'] == rangos_2[d]) &\n",
    "                        (train_set[\"SkinThickness\"] <= train_set['SkinThickness'].describe().loc[rangos_4[snb]])\n",
    "    ])\n",
    "    total_bmi_intersection = len(train_set[\n",
    "                        (train_set['Overweight'] == rangos_2[d]) &\n",
    "                        (train_set[\"BMI\"] <= train_set['BMI'].describe().loc[rangos_4[snb]])\n",
    "    ])\n",
    "    total_A = len(train_set[train_set['Overweight'] == rangos_2[d]])    \n",
    "    \n",
    "    P_skin_intersection = total_skin_intersection/len(train_set)\n",
    "    P_bmi_intersection = total_bmi_intersection/len(train_set)\n",
    "\n",
    "    P_A = total_A/len(train_set)\n",
    "\n",
    "    Skin.append(P_skin_intersection/P_A)\n",
    "    BMI.append(P_bmi_intersection/P_A)"
   ]
  },
  {
   "cell_type": "code",
   "execution_count": null,
   "metadata": {
    "colab": {
     "base_uri": "https://localhost:8080/"
    },
    "id": "QOxCypZRIGoe",
    "outputId": "ed277708-13b1-4554-ae62-eddfee1207a8"
   },
   "outputs": [
    {
     "name": "stdout",
     "output_type": "stream",
     "text": [
      "[0.358148893360161, 0.6358148893360162, 0.8822937625754528, 1.0, 0.0562015503875969, 0.24612403100775196, 0.5058139534883721, 1.0]\n",
      "[0.44064386317907445, 0.5050301810865191, 0.8078470824949698, 1.0, 0.48062015503875966, 0.5, 0.6589147286821706, 1.0]\n",
      "[0.4385026737967915, 0.7272727272727273, 0.9090909090909092, 1.0, 0.30359355638166047, 0.5452292441140024, 0.7980173482032218, 1.0]\n",
      "[0.358148893360161, 0.6358148893360162, 0.8822937625754528, 1.0, 0.0562015503875969, 0.24612403100775196, 0.5058139534883721, 1.0]\n",
      "[0.44064386317907445, 0.5050301810865191, 0.8078470824949698, 1.0, 0.48062015503875966, 0.5, 0.6589147286821706, 1.0]\n",
      "[0.4385026737967915, 0.7272727272727273, 0.9090909090909092, 1.0, 0.30359355638166047, 0.5452292441140024, 0.7980173482032218, 1.0, 0.3125, 0.43750000000000006, 0.8750000000000001, 1.0, 0.174, 0.424, 0.694, 1.0]\n"
     ]
    }
   ],
   "source": [
    "#Los últimos nodos se calculan casi de la misma manera que los segundos, tambien usando probabilidad condicional\n",
    "third_nodes = ['Glucose', 'Insulin', 'BloodPressure']\n",
    "Glucose = []\n",
    "Insulin = []\n",
    "BP = []\n",
    "\n",
    "for d in range(2):\n",
    "  for gni in range(4):\n",
    "    total_glucose_intersection = len(train_set[\n",
    "                        (train_set['Outcome'] == rangos_2[d]) &\n",
    "                        (train_set[\"Glucose\"] <= train_set['Glucose'].describe().loc[rangos_4[gni]])\n",
    "    ])\n",
    "    total_insulin_intersection = len(train_set[\n",
    "                        (train_set['Outcome'] == rangos_2[d]) &\n",
    "                        (train_set[\"Insulin\"] <= train_set['Insulin'].describe().loc[rangos_4[gni]])\n",
    "    ])\n",
    "    total_A = len(train_set[train_set['Outcome'] == rangos_2[d]])\n",
    "\n",
    "    P_glucose_intersection = total_glucose_intersection / len(train_set)\n",
    "    P_insulin_intersection = total_insulin_intersection / len(train_set)\n",
    "    P_A = total_A / len(train_set)\n",
    "\n",
    "    Glucose.append(P_glucose_intersection/P_A)\n",
    "    Insulin.append(P_insulin_intersection/P_A)\n",
    "\n",
    "for d in range(2):\n",
    "  for o in range(2):\n",
    "    for bp in range(4):\n",
    "      total_bp_intersection = len(train_set[\n",
    "                        (train_set['Outcome'] == rangos_2[d]) &\n",
    "                        (train_set['Overweight'] == rangos_2[o]) &\n",
    "                        (train_set[\"BloodPressure\"] <= train_set['BloodPressure'].describe().loc[rangos_4[bp]])\n",
    "    ])\n",
    "      total_A = total_bp = len(train_set[\n",
    "                        (train_set['Outcome'] == rangos_2[d]) &\n",
    "                        (train_set['Overweight'] == rangos_2[o])\n",
    "    ])\n",
    "      P_bp_intersection = total_bp_intersection/len(train_set)\n",
    "      P_A = total_A / len(train_set)\n",
    "      BP.append(P_bp_intersection/P_A)\n",
    "  print(Glucose)\n",
    "  print(Insulin)\n",
    "  print(BP)"
   ]
  },
  {
   "cell_type": "code",
   "execution_count": null,
   "metadata": {
    "id": "VswL6sqBUNn0"
   },
   "outputs": [],
   "source": [
    "#Creamos los nodos para la red bayesiana\n",
    "\n",
    "PregnanciesNode = BbnNode(Variable(0, 'Pregnancies', ['1', '2', '3','4']), Pregnancies)\n",
    "AgeNode = BbnNode(Variable(1, 'Age', ['1', '2', '3','4']), Age)\n",
    "DiabetesPedigreeFunctionNode = BbnNode(Variable(2, 'DiabetesPedigreeFunction', ['1', '2', '3','4']), DiabetesPedigreeFunction)\n",
    "OverweightNode = BbnNode(Variable(3, 'Overweight', ['1', '2']), Overweight)\n",
    "OutcomeNode = BbnNode(Variable(4, 'Outcome', ['1', '2']), Diabetes)\n",
    "SkinThicknessNode = BbnNode(Variable(5, 'SkinThickness', ['1', '2', '3','4']), Skin)\n",
    "BMINode = BbnNode(Variable(6, 'BMI', ['1', '2', '3','4']), BMI)\n",
    "GlucoseNode = BbnNode(Variable(7, 'Glucose', ['1', '2', '3','4']), Glucose)\n",
    "InsulinNode = BbnNode(Variable(8, 'Insulin', ['1', '2', '3','4']), Insulin)\n",
    "BloodPressureNode = BbnNode(Variable(9, 'BloodPressure', ['1', '2', '3','4']), BP)"
   ]
  },
  {
   "cell_type": "code",
   "execution_count": null,
   "metadata": {
    "id": "YtxqNmyNVhny"
   },
   "outputs": [],
   "source": [
    "\n",
    "def restart_tree():\n",
    "  bbn = Bbn() \\\n",
    "      .add_node(PregnanciesNode) \\\n",
    "      .add_node(AgeNode) \\\n",
    "      .add_node(DiabetesPedigreeFunctionNode) \\\n",
    "      .add_node(OverweightNode) \\\n",
    "      .add_node(OutcomeNode) \\\n",
    "      .add_node(SkinThicknessNode) \\\n",
    "      .add_node(BMINode) \\\n",
    "      .add_node(GlucoseNode) \\\n",
    "      .add_node(InsulinNode) \\\n",
    "      .add_node(BloodPressureNode) \\\n",
    "      .add_edge(Edge(PregnanciesNode, OutcomeNode, EdgeType.DIRECTED)) \\\n",
    "      .add_edge(Edge(AgeNode, OutcomeNode, EdgeType.DIRECTED)) \\\n",
    "      .add_edge(Edge(DiabetesPedigreeFunctionNode, OutcomeNode, EdgeType.DIRECTED)) \\\n",
    "      .add_edge(Edge(OverweightNode, OutcomeNode, EdgeType.DIRECTED)) \\\n",
    "      .add_edge(Edge(OverweightNode, SkinThicknessNode, EdgeType.DIRECTED)) \\\n",
    "      .add_edge(Edge(OverweightNode, BMINode, EdgeType.DIRECTED)) \\\n",
    "      .add_edge(Edge(OutcomeNode, GlucoseNode, EdgeType.DIRECTED)) \\\n",
    "      .add_edge(Edge(OutcomeNode, InsulinNode, EdgeType.DIRECTED)) \\\n",
    "      .add_edge(Edge(OutcomeNode, BloodPressureNode, EdgeType.DIRECTED)) \\\n",
    "      .add_edge(Edge(OverweightNode, BloodPressureNode, EdgeType.DIRECTED)) \\\n",
    "\n",
    "  # Convert the BBN to a join tree\n",
    "  join_tree = InferenceController.apply(bbn)\n",
    "  return join_tree"
   ]
  },
  {
   "cell_type": "code",
   "execution_count": null,
   "metadata": {
    "id": "WYjFujqsWti2"
   },
   "outputs": [],
   "source": [
    "# Define a function for printing marginal probabilities\n",
    "def print_probs():\n",
    "    for node in join_tree.get_bbn_nodes():\n",
    "        potential = join_tree.get_bbn_potential(node)\n",
    "        print(\"Node:\", node)\n",
    "        print(\"Values:\")\n",
    "        print(potential)\n",
    "        print('----------------')\n",
    "    \n",
    "# Use the above function to print marginal probabilities\n",
    "print_probs()"
   ]
  },
  {
   "cell_type": "code",
   "execution_count": null,
   "metadata": {
    "id": "BBkaw6rdB3rf"
   },
   "outputs": [],
   "source": [
    "#Esta función se usa para sacar las probabilidades de los nodos en un arreglo de pandas\n",
    "def potential_to_series(p):\n",
    "    vals = []\n",
    "    index = []\n",
    "\n",
    "    for pe in p.entries:\n",
    "        try:\n",
    "            v = pe.entries.values()[0]\n",
    "        except:\n",
    "            v = list(pe.entries.values())[0]\n",
    "        p = pe.value\n",
    "\n",
    "        vals.append(p)\n",
    "        index.append(v)\n",
    "\n",
    "    return pd.Series(vals, index=index)"
   ]
  },
  {
   "cell_type": "code",
   "execution_count": null,
   "metadata": {
    "id": "Gh3cygQKJe1Q"
   },
   "outputs": [],
   "source": [
    "# To add evidence of events that happened so probability distribution can be recalculated\n",
    "def evidence(ev, nod, cat, val):\n",
    "    ev = EvidenceBuilder() \\\n",
    "    .with_node(join_tree.get_bbn_node_by_name(nod)) \\\n",
    "    .with_evidence(cat, val) \\\n",
    "    .build()\n",
    "    new_tree.set_observation(ev)"
   ]
  },
  {
   "cell_type": "code",
   "execution_count": null,
   "metadata": {
    "id": "X6rtpNQoJSVI"
   },
   "outputs": [],
   "source": [
    "#Estos son los rangos que usamos para los cuartiles\n",
    "quartil_ranges = {\n",
    "    'Pregnancies' : [train_set['Pregnancies'].describe().loc[\"25%\"],train_set['Pregnancies'].describe().loc[\"50%\"],train_set['Pregnancies'].describe().loc[\"75%\"], train_set['Pregnancies'].describe().loc[\"max\"]],\n",
    "    'Age' : [train_set['Age'].describe().loc[\"25%\"],train_set['Age'].describe().loc[\"50%\"],train_set['Age'].describe().loc[\"75%\"], train_set['Age'].describe().loc[\"max\"]],\n",
    "    'DiabetesPedigreeFunction' : [train_set['DiabetesPedigreeFunction'].describe().loc[\"25%\"],train_set['DiabetesPedigreeFunction'].describe().loc[\"50%\"],train_set['DiabetesPedigreeFunction'].describe().loc[\"75%\"], train_set['DiabetesPedigreeFunction'].describe().loc[\"max\"]],\n",
    "    'Overweight' : [0, 1],\n",
    "    'SkinThickness' : [train_set['SkinThickness'].describe().loc[\"25%\"],train_set['SkinThickness'].describe().loc[\"50%\"],train_set['SkinThickness'].describe().loc[\"75%\"], train_set['SkinThickness'].describe().loc[\"max\"]],\n",
    "    'BMI' : [train_set['BMI'].describe().loc[\"25%\"],train_set['BMI'].describe().loc[\"50%\"],train_set['BMI'].describe().loc[\"75%\"], train_set['BMI'].describe().loc[\"max\"]],\n",
    "    'Glucose' : [train_set['Glucose'].describe().loc[\"25%\"],train_set['Glucose'].describe().loc[\"50%\"],train_set['Glucose'].describe().loc[\"75%\"], train_set['Glucose'].describe().loc[\"max\"]],\n",
    "    'Insulin' : [train_set['Insulin'].describe().loc[\"25%\"],train_set['Insulin'].describe().loc[\"50%\"],train_set['Insulin'].describe().loc[\"75%\"], train_set['Insulin'].describe().loc[\"max\"]],\n",
    "    'BloodPressure' : [train_set['BloodPressure'].describe().loc[\"25%\"],train_set['BloodPressure'].describe().loc[\"50%\"],train_set['BloodPressure'].describe().loc[\"75%\"], train_set['BloodPressure'].describe().loc[\"max\"]]\n",
    "}\n",
    "\n"
   ]
  },
  {
   "cell_type": "code",
   "execution_count": null,
   "metadata": {
    "id": "cCZ5uydnMFsv"
   },
   "outputs": [],
   "source": [
    "#Con esta función asignamos los valores que tengamos en los valores que buscamos\n",
    "#discretizar en el cuartil que le corresponde\n",
    "def get_quartil(ranges, value):\n",
    "  if len(ranges) == 2:\n",
    "    if value == 0:\n",
    "      return '1'\n",
    "    else:\n",
    "      return '2'\n",
    "  elif len(ranges) == 4:\n",
    "    if value <= ranges[0]:\n",
    "      return '1'\n",
    "    elif value <= ranges[1]:\n",
    "      return '2'\n",
    "    elif value <= ranges[2]:\n",
    "      return '3'\n",
    "    elif value <= ranges[3]:\n",
    "      return '4'"
   ]
  },
  {
   "cell_type": "code",
   "execution_count": null,
   "metadata": {
    "id": "V6of0RBCMCjv"
   },
   "outputs": [],
   "source": [
    "#Función usada para predecir la diabetes en el set de pruebas\n",
    "def predict_diabetes(case):\n",
    "  for i, col in enumerate(quartil_ranges.keys()):\n",
    "    n = get_quartil(quartil_ranges[col],case[col])\n",
    "    evidence(str(i), col, n, 1)\n",
    "  \n",
    "  prediction_node = 0 # Este va a ser el nodo de Outcome, solo que se asigna despues\n",
    "  for node in new_tree.get_bbn_nodes():\n",
    "    if node.variable.name == 'Outcome':\n",
    "      prediction_node = node\n",
    "      break\n",
    "  values = potential_to_series(new_tree.get_bbn_potential(prediction_node))\n",
    "  if values[1] >= 0.2:\n",
    "    return 1\n",
    "  else:\n",
    "    return 0"
   ]
  },
  {
   "cell_type": "code",
   "execution_count": null,
   "metadata": {
    "colab": {
     "base_uri": "https://localhost:8080/",
     "height": 521
    },
    "id": "BfSJpG5oPqsX",
    "outputId": "bc7c8a20-1fc9-4da4-89a5-cad5bccc56c5"
   },
   "outputs": [
    {
     "name": "stderr",
     "output_type": "stream",
     "text": [
      "/usr/local/lib/python3.7/dist-packages/ipykernel_launcher.py:1: SettingWithCopyWarning: \n",
      "A value is trying to be set on a copy of a slice from a DataFrame.\n",
      "Try using .loc[row_indexer,col_indexer] = value instead\n",
      "\n",
      "See the caveats in the documentation: https://pandas.pydata.org/pandas-docs/stable/user_guide/indexing.html#returning-a-view-versus-a-copy\n",
      "  \"\"\"Entry point for launching an IPython kernel.\n"
     ]
    },
    {
     "data": {
      "text/html": [
       "<div>\n",
       "<style scoped>\n",
       "    .dataframe tbody tr th:only-of-type {\n",
       "        vertical-align: middle;\n",
       "    }\n",
       "\n",
       "    .dataframe tbody tr th {\n",
       "        vertical-align: top;\n",
       "    }\n",
       "\n",
       "    .dataframe thead th {\n",
       "        text-align: right;\n",
       "    }\n",
       "</style>\n",
       "<table border=\"1\" class=\"dataframe\">\n",
       "  <thead>\n",
       "    <tr style=\"text-align: right;\">\n",
       "      <th></th>\n",
       "      <th>Pregnancies</th>\n",
       "      <th>Glucose</th>\n",
       "      <th>BloodPressure</th>\n",
       "      <th>SkinThickness</th>\n",
       "      <th>Insulin</th>\n",
       "      <th>BMI</th>\n",
       "      <th>DiabetesPedigreeFunction</th>\n",
       "      <th>Age</th>\n",
       "      <th>Outcome</th>\n",
       "      <th>Overweight</th>\n",
       "      <th>Prediction</th>\n",
       "    </tr>\n",
       "  </thead>\n",
       "  <tbody>\n",
       "    <tr>\n",
       "      <th>5</th>\n",
       "      <td>0</td>\n",
       "      <td>173</td>\n",
       "      <td>78</td>\n",
       "      <td>32</td>\n",
       "      <td>265</td>\n",
       "      <td>46.5</td>\n",
       "      <td>1.159</td>\n",
       "      <td>58</td>\n",
       "      <td>0</td>\n",
       "      <td>1</td>\n",
       "      <td>0</td>\n",
       "    </tr>\n",
       "    <tr>\n",
       "      <th>14</th>\n",
       "      <td>5</td>\n",
       "      <td>110</td>\n",
       "      <td>68</td>\n",
       "      <td>0</td>\n",
       "      <td>0</td>\n",
       "      <td>26.0</td>\n",
       "      <td>0.292</td>\n",
       "      <td>30</td>\n",
       "      <td>0</td>\n",
       "      <td>1</td>\n",
       "      <td>0</td>\n",
       "    </tr>\n",
       "    <tr>\n",
       "      <th>21</th>\n",
       "      <td>7</td>\n",
       "      <td>94</td>\n",
       "      <td>64</td>\n",
       "      <td>25</td>\n",
       "      <td>79</td>\n",
       "      <td>33.3</td>\n",
       "      <td>0.738</td>\n",
       "      <td>41</td>\n",
       "      <td>0</td>\n",
       "      <td>1</td>\n",
       "      <td>0</td>\n",
       "    </tr>\n",
       "    <tr>\n",
       "      <th>25</th>\n",
       "      <td>1</td>\n",
       "      <td>130</td>\n",
       "      <td>60</td>\n",
       "      <td>23</td>\n",
       "      <td>170</td>\n",
       "      <td>28.6</td>\n",
       "      <td>0.692</td>\n",
       "      <td>21</td>\n",
       "      <td>0</td>\n",
       "      <td>1</td>\n",
       "      <td>0</td>\n",
       "    </tr>\n",
       "    <tr>\n",
       "      <th>29</th>\n",
       "      <td>0</td>\n",
       "      <td>139</td>\n",
       "      <td>62</td>\n",
       "      <td>17</td>\n",
       "      <td>210</td>\n",
       "      <td>22.1</td>\n",
       "      <td>0.207</td>\n",
       "      <td>21</td>\n",
       "      <td>0</td>\n",
       "      <td>0</td>\n",
       "      <td>0</td>\n",
       "    </tr>\n",
       "    <tr>\n",
       "      <th>...</th>\n",
       "      <td>...</td>\n",
       "      <td>...</td>\n",
       "      <td>...</td>\n",
       "      <td>...</td>\n",
       "      <td>...</td>\n",
       "      <td>...</td>\n",
       "      <td>...</td>\n",
       "      <td>...</td>\n",
       "      <td>...</td>\n",
       "      <td>...</td>\n",
       "      <td>...</td>\n",
       "    </tr>\n",
       "    <tr>\n",
       "      <th>1985</th>\n",
       "      <td>0</td>\n",
       "      <td>131</td>\n",
       "      <td>88</td>\n",
       "      <td>0</td>\n",
       "      <td>0</td>\n",
       "      <td>31.6</td>\n",
       "      <td>0.743</td>\n",
       "      <td>32</td>\n",
       "      <td>1</td>\n",
       "      <td>1</td>\n",
       "      <td>0</td>\n",
       "    </tr>\n",
       "    <tr>\n",
       "      <th>1989</th>\n",
       "      <td>4</td>\n",
       "      <td>110</td>\n",
       "      <td>66</td>\n",
       "      <td>0</td>\n",
       "      <td>0</td>\n",
       "      <td>31.9</td>\n",
       "      <td>0.471</td>\n",
       "      <td>29</td>\n",
       "      <td>0</td>\n",
       "      <td>1</td>\n",
       "      <td>0</td>\n",
       "    </tr>\n",
       "    <tr>\n",
       "      <th>1992</th>\n",
       "      <td>6</td>\n",
       "      <td>134</td>\n",
       "      <td>70</td>\n",
       "      <td>23</td>\n",
       "      <td>130</td>\n",
       "      <td>35.4</td>\n",
       "      <td>0.542</td>\n",
       "      <td>29</td>\n",
       "      <td>1</td>\n",
       "      <td>1</td>\n",
       "      <td>0</td>\n",
       "    </tr>\n",
       "    <tr>\n",
       "      <th>1997</th>\n",
       "      <td>6</td>\n",
       "      <td>85</td>\n",
       "      <td>78</td>\n",
       "      <td>0</td>\n",
       "      <td>0</td>\n",
       "      <td>31.2</td>\n",
       "      <td>0.382</td>\n",
       "      <td>42</td>\n",
       "      <td>0</td>\n",
       "      <td>1</td>\n",
       "      <td>0</td>\n",
       "    </tr>\n",
       "    <tr>\n",
       "      <th>1999</th>\n",
       "      <td>2</td>\n",
       "      <td>81</td>\n",
       "      <td>72</td>\n",
       "      <td>15</td>\n",
       "      <td>76</td>\n",
       "      <td>30.1</td>\n",
       "      <td>0.547</td>\n",
       "      <td>25</td>\n",
       "      <td>0</td>\n",
       "      <td>1</td>\n",
       "      <td>0</td>\n",
       "    </tr>\n",
       "  </tbody>\n",
       "</table>\n",
       "<p>378 rows × 11 columns</p>\n",
       "</div>"
      ],
      "text/plain": [
       "      Pregnancies  Glucose  BloodPressure  ...  Outcome  Overweight  Prediction\n",
       "5               0      173             78  ...        0           1           0\n",
       "14              5      110             68  ...        0           1           0\n",
       "21              7       94             64  ...        0           1           0\n",
       "25              1      130             60  ...        0           1           0\n",
       "29              0      139             62  ...        0           0           0\n",
       "...           ...      ...            ...  ...      ...         ...         ...\n",
       "1985            0      131             88  ...        1           1           0\n",
       "1989            4      110             66  ...        0           1           0\n",
       "1992            6      134             70  ...        1           1           0\n",
       "1997            6       85             78  ...        0           1           0\n",
       "1999            2       81             72  ...        0           1           0\n",
       "\n",
       "[378 rows x 11 columns]"
      ]
     },
     "execution_count": 202,
     "metadata": {},
     "output_type": "execute_result"
    }
   ],
   "source": [
    "# Creamos la columna de \"Perdiction\"\n",
    "test_set[\"Prediction\"] = test_set[\"Outcome\"] * 0\n",
    "test_set"
   ]
  },
  {
   "cell_type": "code",
   "execution_count": null,
   "metadata": {
    "colab": {
     "base_uri": "https://localhost:8080/",
     "height": 521
    },
    "id": "6vtk_Uz08R7a",
    "outputId": "4a73505f-0fda-4311-cfd4-46c13503e27f"
   },
   "outputs": [
    {
     "name": "stderr",
     "output_type": "stream",
     "text": [
      "/usr/local/lib/python3.7/dist-packages/pandas/core/indexing.py:1763: SettingWithCopyWarning: \n",
      "A value is trying to be set on a copy of a slice from a DataFrame.\n",
      "Try using .loc[row_indexer,col_indexer] = value instead\n",
      "\n",
      "See the caveats in the documentation: https://pandas.pydata.org/pandas-docs/stable/user_guide/indexing.html#returning-a-view-versus-a-copy\n",
      "  isetter(loc, value)\n"
     ]
    },
    {
     "data": {
      "text/html": [
       "<div>\n",
       "<style scoped>\n",
       "    .dataframe tbody tr th:only-of-type {\n",
       "        vertical-align: middle;\n",
       "    }\n",
       "\n",
       "    .dataframe tbody tr th {\n",
       "        vertical-align: top;\n",
       "    }\n",
       "\n",
       "    .dataframe thead th {\n",
       "        text-align: right;\n",
       "    }\n",
       "</style>\n",
       "<table border=\"1\" class=\"dataframe\">\n",
       "  <thead>\n",
       "    <tr style=\"text-align: right;\">\n",
       "      <th></th>\n",
       "      <th>Pregnancies</th>\n",
       "      <th>Glucose</th>\n",
       "      <th>BloodPressure</th>\n",
       "      <th>SkinThickness</th>\n",
       "      <th>Insulin</th>\n",
       "      <th>BMI</th>\n",
       "      <th>DiabetesPedigreeFunction</th>\n",
       "      <th>Age</th>\n",
       "      <th>Outcome</th>\n",
       "      <th>Overweight</th>\n",
       "      <th>Prediction</th>\n",
       "    </tr>\n",
       "  </thead>\n",
       "  <tbody>\n",
       "    <tr>\n",
       "      <th>5</th>\n",
       "      <td>0</td>\n",
       "      <td>173</td>\n",
       "      <td>78</td>\n",
       "      <td>32</td>\n",
       "      <td>265</td>\n",
       "      <td>46.5</td>\n",
       "      <td>1.159</td>\n",
       "      <td>58</td>\n",
       "      <td>0</td>\n",
       "      <td>1</td>\n",
       "      <td>1</td>\n",
       "    </tr>\n",
       "    <tr>\n",
       "      <th>14</th>\n",
       "      <td>5</td>\n",
       "      <td>110</td>\n",
       "      <td>68</td>\n",
       "      <td>0</td>\n",
       "      <td>0</td>\n",
       "      <td>26.0</td>\n",
       "      <td>0.292</td>\n",
       "      <td>30</td>\n",
       "      <td>0</td>\n",
       "      <td>1</td>\n",
       "      <td>0</td>\n",
       "    </tr>\n",
       "    <tr>\n",
       "      <th>21</th>\n",
       "      <td>7</td>\n",
       "      <td>94</td>\n",
       "      <td>64</td>\n",
       "      <td>25</td>\n",
       "      <td>79</td>\n",
       "      <td>33.3</td>\n",
       "      <td>0.738</td>\n",
       "      <td>41</td>\n",
       "      <td>0</td>\n",
       "      <td>1</td>\n",
       "      <td>0</td>\n",
       "    </tr>\n",
       "    <tr>\n",
       "      <th>25</th>\n",
       "      <td>1</td>\n",
       "      <td>130</td>\n",
       "      <td>60</td>\n",
       "      <td>23</td>\n",
       "      <td>170</td>\n",
       "      <td>28.6</td>\n",
       "      <td>0.692</td>\n",
       "      <td>21</td>\n",
       "      <td>0</td>\n",
       "      <td>1</td>\n",
       "      <td>0</td>\n",
       "    </tr>\n",
       "    <tr>\n",
       "      <th>29</th>\n",
       "      <td>0</td>\n",
       "      <td>139</td>\n",
       "      <td>62</td>\n",
       "      <td>17</td>\n",
       "      <td>210</td>\n",
       "      <td>22.1</td>\n",
       "      <td>0.207</td>\n",
       "      <td>21</td>\n",
       "      <td>0</td>\n",
       "      <td>0</td>\n",
       "      <td>0</td>\n",
       "    </tr>\n",
       "    <tr>\n",
       "      <th>...</th>\n",
       "      <td>...</td>\n",
       "      <td>...</td>\n",
       "      <td>...</td>\n",
       "      <td>...</td>\n",
       "      <td>...</td>\n",
       "      <td>...</td>\n",
       "      <td>...</td>\n",
       "      <td>...</td>\n",
       "      <td>...</td>\n",
       "      <td>...</td>\n",
       "      <td>...</td>\n",
       "    </tr>\n",
       "    <tr>\n",
       "      <th>1985</th>\n",
       "      <td>0</td>\n",
       "      <td>131</td>\n",
       "      <td>88</td>\n",
       "      <td>0</td>\n",
       "      <td>0</td>\n",
       "      <td>31.6</td>\n",
       "      <td>0.743</td>\n",
       "      <td>32</td>\n",
       "      <td>1</td>\n",
       "      <td>1</td>\n",
       "      <td>0</td>\n",
       "    </tr>\n",
       "    <tr>\n",
       "      <th>1989</th>\n",
       "      <td>4</td>\n",
       "      <td>110</td>\n",
       "      <td>66</td>\n",
       "      <td>0</td>\n",
       "      <td>0</td>\n",
       "      <td>31.9</td>\n",
       "      <td>0.471</td>\n",
       "      <td>29</td>\n",
       "      <td>0</td>\n",
       "      <td>1</td>\n",
       "      <td>0</td>\n",
       "    </tr>\n",
       "    <tr>\n",
       "      <th>1992</th>\n",
       "      <td>6</td>\n",
       "      <td>134</td>\n",
       "      <td>70</td>\n",
       "      <td>23</td>\n",
       "      <td>130</td>\n",
       "      <td>35.4</td>\n",
       "      <td>0.542</td>\n",
       "      <td>29</td>\n",
       "      <td>1</td>\n",
       "      <td>1</td>\n",
       "      <td>0</td>\n",
       "    </tr>\n",
       "    <tr>\n",
       "      <th>1997</th>\n",
       "      <td>6</td>\n",
       "      <td>85</td>\n",
       "      <td>78</td>\n",
       "      <td>0</td>\n",
       "      <td>0</td>\n",
       "      <td>31.2</td>\n",
       "      <td>0.382</td>\n",
       "      <td>42</td>\n",
       "      <td>0</td>\n",
       "      <td>1</td>\n",
       "      <td>0</td>\n",
       "    </tr>\n",
       "    <tr>\n",
       "      <th>1999</th>\n",
       "      <td>2</td>\n",
       "      <td>81</td>\n",
       "      <td>72</td>\n",
       "      <td>15</td>\n",
       "      <td>76</td>\n",
       "      <td>30.1</td>\n",
       "      <td>0.547</td>\n",
       "      <td>25</td>\n",
       "      <td>0</td>\n",
       "      <td>1</td>\n",
       "      <td>0</td>\n",
       "    </tr>\n",
       "  </tbody>\n",
       "</table>\n",
       "<p>378 rows × 11 columns</p>\n",
       "</div>"
      ],
      "text/plain": [
       "      Pregnancies  Glucose  BloodPressure  ...  Outcome  Overweight  Prediction\n",
       "5               0      173             78  ...        0           1           1\n",
       "14              5      110             68  ...        0           1           0\n",
       "21              7       94             64  ...        0           1           0\n",
       "25              1      130             60  ...        0           1           0\n",
       "29              0      139             62  ...        0           0           0\n",
       "...           ...      ...            ...  ...      ...         ...         ...\n",
       "1985            0      131             88  ...        1           1           0\n",
       "1989            4      110             66  ...        0           1           0\n",
       "1992            6      134             70  ...        1           1           0\n",
       "1997            6       85             78  ...        0           1           0\n",
       "1999            2       81             72  ...        0           1           0\n",
       "\n",
       "[378 rows x 11 columns]"
      ]
     },
     "execution_count": 203,
     "metadata": {},
     "output_type": "execute_result"
    }
   ],
   "source": [
    "# Asignamos las predicciones a los diferentes casos de la lista de pruebas\n",
    "test_set.reset_index()\n",
    "for i, row in test_set.iterrows():\n",
    "  new_tree = restart_tree()\n",
    "  test_set.loc[i,\"Prediction\"] = predict_diabetes(row)\n",
    "test_set"
   ]
  },
  {
   "cell_type": "code",
   "execution_count": null,
   "metadata": {
    "id": "KnAq3g4E5Hdw"
   },
   "outputs": [],
   "source": [
    "# Función para sacar las métricas del modelo BBN\n",
    "def performance_metrics(df):\n",
    "    positives = [len(test_set[(test_set[\"Prediction\"] == 1) & (test_set[\"Outcome\"] == 1)]),\n",
    "                 len(test_set[(test_set[\"Prediction\"] == 1) & (test_set[\"Outcome\"] == 0)])]\n",
    "    negatives = [len(test_set[(test_set[\"Prediction\"] == 0) & (test_set[\"Outcome\"] == 1)]),\n",
    "                 len(test_set[(test_set[\"Prediction\"] == 0) & (test_set[\"Outcome\"] == 0)])]\n",
    "    conf_mat = pd.DataFrame({\"Predicted positives\" : positives,\n",
    "                             \"Predicted negatives\" : negatives},\n",
    "                           index = [\"Actual positives\", \"Actual negatives\"])\n",
    "    \n",
    "    accuracy = (positives[0] + negatives[1])/len(df)\n",
    "    precision = positives[0]/sum(positives)\n",
    "    recall = positives[0]/(positives[0] + negatives[0])\n",
    "    f1 = 2 * (precision * recall)/(precision + recall)\n",
    "    \n",
    "    metrics = pd.DataFrame({\"Metrics\" : [accuracy, precision, recall, f1]}, \n",
    "                          index = [\"Accuracy\", \"Precision\", \"Recall\", \"F1 Score\"])\n",
    "    return [conf_mat, metrics]"
   ]
  },
  {
   "cell_type": "code",
   "execution_count": null,
   "metadata": {
    "colab": {
     "base_uri": "https://localhost:8080/",
     "height": 111
    },
    "id": "oDKO7w1b5NoC",
    "outputId": "2b566fb0-b0fa-4042-b285-836702d234f3"
   },
   "outputs": [
    {
     "data": {
      "text/html": [
       "<div>\n",
       "<style scoped>\n",
       "    .dataframe tbody tr th:only-of-type {\n",
       "        vertical-align: middle;\n",
       "    }\n",
       "\n",
       "    .dataframe tbody tr th {\n",
       "        vertical-align: top;\n",
       "    }\n",
       "\n",
       "    .dataframe thead th {\n",
       "        text-align: right;\n",
       "    }\n",
       "</style>\n",
       "<table border=\"1\" class=\"dataframe\">\n",
       "  <thead>\n",
       "    <tr style=\"text-align: right;\">\n",
       "      <th></th>\n",
       "      <th>Predicted positives</th>\n",
       "      <th>Predicted negatives</th>\n",
       "    </tr>\n",
       "  </thead>\n",
       "  <tbody>\n",
       "    <tr>\n",
       "      <th>Actual positives</th>\n",
       "      <td>51</td>\n",
       "      <td>72</td>\n",
       "    </tr>\n",
       "    <tr>\n",
       "      <th>Actual negatives</th>\n",
       "      <td>19</td>\n",
       "      <td>236</td>\n",
       "    </tr>\n",
       "  </tbody>\n",
       "</table>\n",
       "</div>"
      ],
      "text/plain": [
       "                  Predicted positives  Predicted negatives\n",
       "Actual positives                   51                   72\n",
       "Actual negatives                   19                  236"
      ]
     },
     "execution_count": 204,
     "metadata": {},
     "output_type": "execute_result"
    }
   ],
   "source": [
    "confusion_matrix, metrics = performance_metrics(test_set)\n",
    "confusion_matrix"
   ]
  },
  {
   "cell_type": "code",
   "execution_count": null,
   "metadata": {
    "colab": {
     "base_uri": "https://localhost:8080/",
     "height": 173
    },
    "id": "9wwkujdA5X4O",
    "outputId": "66505709-4cd2-4870-d8f9-4d0604f253ed"
   },
   "outputs": [
    {
     "data": {
      "text/html": [
       "<div>\n",
       "<style scoped>\n",
       "    .dataframe tbody tr th:only-of-type {\n",
       "        vertical-align: middle;\n",
       "    }\n",
       "\n",
       "    .dataframe tbody tr th {\n",
       "        vertical-align: top;\n",
       "    }\n",
       "\n",
       "    .dataframe thead th {\n",
       "        text-align: right;\n",
       "    }\n",
       "</style>\n",
       "<table border=\"1\" class=\"dataframe\">\n",
       "  <thead>\n",
       "    <tr style=\"text-align: right;\">\n",
       "      <th></th>\n",
       "      <th>Metrics</th>\n",
       "    </tr>\n",
       "  </thead>\n",
       "  <tbody>\n",
       "    <tr>\n",
       "      <th>Accuracy</th>\n",
       "      <td>0.759259</td>\n",
       "    </tr>\n",
       "    <tr>\n",
       "      <th>Precision</th>\n",
       "      <td>0.728571</td>\n",
       "    </tr>\n",
       "    <tr>\n",
       "      <th>Recall</th>\n",
       "      <td>0.414634</td>\n",
       "    </tr>\n",
       "    <tr>\n",
       "      <th>F1 Score</th>\n",
       "      <td>0.528497</td>\n",
       "    </tr>\n",
       "  </tbody>\n",
       "</table>\n",
       "</div>"
      ],
      "text/plain": [
       "            Metrics\n",
       "Accuracy   0.759259\n",
       "Precision  0.728571\n",
       "Recall     0.414634\n",
       "F1 Score   0.528497"
      ]
     },
     "execution_count": 206,
     "metadata": {},
     "output_type": "execute_result"
    }
   ],
   "source": [
    "metrics"
   ]
  },
  {
   "cell_type": "markdown",
   "metadata": {
    "id": "bLXsFjJUmeNl"
   },
   "source": [
    "## Conclusiones"
   ]
  },
  {
   "cell_type": "markdown",
   "metadata": {
    "id": "ajts2esimfyh"
   },
   "source": [
    "En conclusión, se obtuvieron resultados un poco deficientes ya que, tratándose en el ámbito médico, es crucial la detección acertada y oportuna de enfermedades. El que se hayan tenido 72  personas con Diabetes clasificadas erróneamente comparado con solamente 51 Verdaderos Positivos es algo que podría generar problemas serios en el futuro diagnóstico de pacientes en el futuro. \n",
    "\n",
    "Por el otro lado, en cuanto a los pacientes sin Diabetes, se pudieron clasificar 236 de 255  Verdaderos Negativos lo cual significa que el algoritmo clasificó con 93% de recall solamente en el caso de pacientes sin la enfermedad. Ello es un resultado bueno, sin embargo se tiene que considerar el propósito de la metodología utilizada (siendo éste el diagnóstico de diabetes). Por ello, se puede decir que la importancia del pronóstico de personas con diabetes es mayor.\n",
    "\n",
    "Hablando en cuanto a las métricas de predicción generales,  la eficacia está en un 76%, la precisión 72%, el recall 41% y la F1 Score 53%. Esto nos dice que los resultados están probablemente sesgados gracias al buen desempeño que se obtuvo en predecir los Verdaderos Negativos, sin embargo se tuvo un desempeño relativamente deficiente en cuanto a los Verdaderos Positivos por lo que se concluye que este método no es recomendable de implementar.\n"
   ]
  },
  {
   "cell_type": "markdown",
   "metadata": {
    "id": "V0K_HjP5mnY7"
   },
   "source": [
    "## Fuentes"
   ]
  },
  {
   "cell_type": "markdown",
   "metadata": {
    "id": "liXukgOAmpDu"
   },
   "source": [
    "\n",
    "\n",
    "\n",
    "*   Exact Inference with Widgets — PyBBN 3.2.1 documentation. (2017). PyBBN. https://py-bbn.readthedocs.io/exact-inference-widgets.html\n",
    "\n",
    "\n",
    "*   Soni, D. (2019, July 16). Introduction to Bayesian Networks - Towards Data Science. Introduction to Bayesian Networks. https://towardsdatascience.com/introduction-to-bayesian-networks-81031eeed94e\n",
    "\n",
    "\n",
    "\n"
   ]
  }
 ],
 "metadata": {
  "colab": {
   "name": "Diabetes Redes Bayesianas.ipynb",
   "provenance": []
  },
  "kernelspec": {
   "display_name": "Python 3",
   "language": "python",
   "name": "python3"
  },
  "language_info": {
   "codemirror_mode": {
    "name": "ipython",
    "version": 3
   },
   "file_extension": ".py",
   "mimetype": "text/x-python",
   "name": "python",
   "nbconvert_exporter": "python",
   "pygments_lexer": "ipython3",
   "version": "3.8.5"
  }
 },
 "nbformat": 4,
 "nbformat_minor": 1
}
