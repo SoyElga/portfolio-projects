{
 "cells": [
  {
   "cell_type": "markdown",
   "metadata": {},
   "source": [
    "# Actividad: Localización"
   ]
  },
  {
   "cell_type": "markdown",
   "metadata": {},
   "source": [
    "Integrantes Equipo 4:\n",
    "* Álvaro López\n",
    "* Celinna Arellano\n",
    "* Lolyna de la Fuente\n",
    "* Luis Gabriel Martínez\n",
    "* María del Carmen Vargas"
   ]
  },
  {
   "cell_type": "markdown",
   "metadata": {},
   "source": [
    "## Problematización"
   ]
  },
  {
   "cell_type": "markdown",
   "metadata": {},
   "source": [
    "Para esta actividad nos encontramos con la problemática de un robot que no sabe el lugar en el que se encuentra, por lo que trata de descifrar su ubicación según un conjunto de observaciones. El robot está equipado con cuatro sensores que nos indican si hay un obstáculo o no en una dirección específica, es decir, si se encuentra libre u ocupado un espacio (recuadro) dentro de la cuadrícula en la que se encuentra. Nuestro objetivo es calcular la ruta más probable según la probabilidad individual de cada movimiento que haga nuestro robot. "
   ]
  },
  {
   "cell_type": "markdown",
   "metadata": {},
   "source": [
    "## Enfoque"
   ]
  },
  {
   "cell_type": "markdown",
   "metadata": {},
   "source": [
    "Para este caso se implementó el modelo oculto de Markov. Este modelo estadístico nos ayuda a calcular y predecir secuencias a futuro basándose en lo que se conoce en el presente y a probabilidades."
   ]
  },
  {
   "cell_type": "markdown",
   "metadata": {},
   "source": [
    "**Implementación del HMM**\n",
    "\n",
    "1. Importamos las librerías necesarias.\n",
    "\n",
    "2. Creación del tablero en que el robot va a estar recorriendo. Este tablero es aleatorio y contiene 1 y 0, siendo 1 lugar disponible y 0 lugar ocupado.\n",
    "\n",
    "\n",
    "3. Consultamos cuántos lugares libres se tienen en todo el tablero y después hacer una búsqueda de todos los vecinos  de estos lugares libres, de los cuales se almacena la coordenada del origen de los vecinos, las posiciones de los vecinos y los valores de estos.\n",
    "\n",
    "\n",
    "4. Para poder implementar las funciones de las cuatro inferencias, necesitamos establecer y crear varios componentes necesarios como el modelo inicial, el modelo de transición, el modelo del sensor, las posibles evidencias, los posibles estados y el factor de error de los sensores del modelo. \n",
    "\n",
    "\n",
    "5. Posteriormente, definimos las funciones de las cuatro inferencias básicas que podemos realizar dado que nuestro modelo lo definimos como genérico temporal: filtrado, predicción, smoothing y explicación más probable (‘most likely sequence’).\n",
    "\n",
    "\n",
    "6. Cuando ya se tienen estos componentes, se llama a las funciones previamente establecidas para poder llegar a la mejor secuencia en la que el robot se moverá libremente.\n",
    "\n",
    "\n",
    "7. Se obtienen los resultados y se visualiza su eficacia gracias a heatmaps.\n",
    "\n"
   ]
  },
  {
   "cell_type": "markdown",
   "metadata": {},
   "source": [
    "## Propósito"
   ]
  },
  {
   "cell_type": "markdown",
   "metadata": {},
   "source": [
    "El objetivo principal de este trabajo es implementar un modelo estadístico conocido como el Modelo Oculto de Márkov (HMM) dentro del contexto inicial en el que se debe inferir la posición de un robot dentro de un entorno estático. Existe una propiedad de Márkov muy importante, la cual dice que el futuro es independiente del pasado dado el presente, esto quiere decir que solo importa el estado actual para tomar una decisión. Sin embargo, la complejidad del caso en el que se encuentra la problemática es que no se conoce el estado actual del robot ni el estado de las posiciones posibles para moverse (información **oculta**). La manera de resolverlo es aplicando el Modelo Oculto de Márkov ya que resulta muy útil para calcular el **estado oculto más probable** dadas una secuencia de observaciones.\n",
    "\n",
    "\n",
    "En otras palabras, con base en métodos probabilísticos, el Modelo Oculto de Márkov es eficaz para obtener el cálculo de tareas complejas entre ellas la localización y navegación de un robot, todo en relación de su posición y su orientación. \n"
   ]
  },
  {
   "cell_type": "markdown",
   "metadata": {},
   "source": [
    "## Información"
   ]
  },
  {
   "cell_type": "markdown",
   "metadata": {},
   "source": [
    "Los Modelos Ocultos de Markov (HMM, por sus siglas en inglés) nos permite hablar de eventos observados  y eventos ocultos que, las cuáles se consideran como factores causales en nuestro modelo probabilístico. Estos modelos se basan en la utilización del concepto conocido como Cadenas de Markov (o también conocido como Procesos de Markov). Un proceso de Markov es un modelo estadístico basado en la probabilidad que se es utilizado para describir eventos (o más bien, una secuencia de eventos) donde la probabilidad de ocurrencia de cada uno de éstos es sujeto por sólo por el estado alcanzado en el evento anterior. \n",
    "\n",
    "\n",
    "El  proceso de Markov utiliza también lo que se conoce como el supuesto de Markov, donde se estipula que el estado actual $X_k$ es dependiente de una cantidad finita de estados anteriores.  La siguiente expresión es una forma de visualizar al supuesto de Markov.\n",
    "\n",
    "\n",
    "\\begin{equation}\n",
    "    P(X_k | X_{0:k-1})= P(X_k | X_{k-1})\n",
    "\\end{equation}\n",
    "\n",
    "\n",
    "Para el escrito presente, el modelo de Markov utiliza el concepto de tiempo discreto, en vez de la utilización del concepto de tiempo continuo. Otro concepto que se debe aclarar es aquél de la \\textit{Transición}. Una transición, en el contexto de un modelo de Markov, es un cambio del estado en el sistema, cada una teniendo sus \\textit{probabilidades de transición}. Un modelo de transición es aquél que da la distribución de probabilidad del estado actual $X_k$ dado lo que sabemos de los $X_{0:k−1}$ , ello siendo: \n",
    "\n",
    "\\begin{equation}\n",
    "    P(X_k | X_{0:k-1})\n",
    "\\end{equation}\n"
   ]
  },
  {
   "cell_type": "markdown",
   "metadata": {},
   "source": [
    "## Razonamiento"
   ]
  },
  {
   "cell_type": "code",
   "execution_count": null,
   "metadata": {
    "id": "otgqmhLB6khV"
   },
   "outputs": [],
   "source": [
    "import numpy as np\n",
    "from numpy.linalg import matrix_power\n",
    "import seaborn as sns\n",
    "import pandas as pd"
   ]
  },
  {
   "cell_type": "code",
   "execution_count": null,
   "metadata": {
    "colab": {
     "base_uri": "https://localhost:8080/"
    },
    "id": "W6AhQSXx7HEz",
    "outputId": "29b4be1e-c2d2-48db-c366-365418a2cbed"
   },
   "outputs": [
    {
     "data": {
      "text/plain": [
       "array([[1, 1, 0, 1, 0, 1, 1, 1, 1, 0],\n",
       "       [0, 1, 0, 0, 0, 1, 1, 0, 1, 1],\n",
       "       [1, 0, 1, 1, 0, 0, 0, 0, 1, 1],\n",
       "       [1, 1, 0, 1, 1, 1, 0, 1, 0, 0],\n",
       "       [0, 1, 0, 1, 0, 0, 0, 0, 1, 0],\n",
       "       [1, 1, 1, 0, 0, 0, 0, 0, 1, 0],\n",
       "       [0, 0, 0, 0, 1, 0, 0, 0, 0, 1],\n",
       "       [1, 0, 0, 0, 1, 0, 1, 0, 0, 1],\n",
       "       [0, 0, 1, 0, 1, 1, 0, 0, 0, 1],\n",
       "       [1, 0, 0, 1, 0, 0, 1, 0, 1, 0]])"
      ]
     },
     "execution_count": 182,
     "metadata": {},
     "output_type": "execute_result"
    }
   ],
   "source": [
    "table = np.random.randint(2, size=(10, 10))\n",
    "table"
   ]
  },
  {
   "cell_type": "code",
   "execution_count": null,
   "metadata": {
    "colab": {
     "base_uri": "https://localhost:8080/"
    },
    "id": "RYYFASJu7OPP",
    "outputId": "694e985f-dfde-4eaa-cac1-09708f085a32"
   },
   "outputs": [
    {
     "data": {
      "text/plain": [
       "44"
      ]
     },
     "execution_count": 183,
     "metadata": {},
     "output_type": "execute_result"
    }
   ],
   "source": [
    "n_free = np.unique(table, return_counts=True)[1][1]\n",
    "n_free"
   ]
  },
  {
   "cell_type": "code",
   "execution_count": null,
   "metadata": {
    "colab": {
     "base_uri": "https://localhost:8080/"
    },
    "id": "GYJQkOzj7YKm",
    "outputId": "689c46c9-1330-4720-df97-7c6f69bc4369"
   },
   "outputs": [
    {
     "data": {
      "text/plain": [
       "[[0, 0, 1, 0],\n",
       " [0, 1, 0, 1],\n",
       " [0, 0, 1, 1],\n",
       " [0, 0, 0, 0],\n",
       " [0, 0, 1, 1],\n",
       " [0, 1, 1, 0],\n",
       " [0, 1, 1, 1],\n",
       " [0, 0, 1, 1],\n",
       " [0, 1, 0, 1],\n",
       " [0, 1, 0, 1],\n",
       " [1, 1, 1, 0],\n",
       " [1, 0, 0, 0],\n",
       " [0, 1, 0, 1],\n",
       " [1, 1, 0, 0],\n",
       " [0, 0, 1, 0],\n",
       " [1, 0, 1, 0],\n",
       " [1, 0, 0, 1],\n",
       " [1, 0, 1, 1],\n",
       " [1, 1, 1, 0],\n",
       " [0, 1, 0, 1],\n",
       " [0, 1, 0, 0],\n",
       " [1, 1, 1, 1],\n",
       " [0, 0, 1, 0],\n",
       " [0, 1, 0, 1],\n",
       " [0, 1, 0, 1],\n",
       " [1, 1, 0, 0],\n",
       " [1, 0, 0, 0],\n",
       " [0, 1, 1, 0],\n",
       " [1, 0, 1, 0],\n",
       " [1, 0, 0, 1],\n",
       " [1, 0, 1, 0],\n",
       " [0, 1, 0, 1],\n",
       " [1, 0, 1, 1],\n",
       " [1, 1, 1, 0],\n",
       " [0, 0, 1, 1],\n",
       " [0, 0, 0, 1],\n",
       " [0, 0, 1, 1],\n",
       " [0, 0, 0, 0],\n",
       " [1, 1, 0, 1],\n",
       " [1, 0, 0, 0],\n",
       " [1, 1, 1, 0],\n",
       " [1, 1, 0, 0],\n",
       " [0, 1, 1, 1],\n",
       " [1, 0, 0, 0],\n",
       " [1, 0, 0, 1],\n",
       " [1, 0, 0, 0],\n",
       " [0, 0, 0, 0],\n",
       " [1, 0, 1, 0],\n",
       " [0, 1, 0, 0],\n",
       " [0, 0, 0, 1],\n",
       " [0, 0, 1, 0],\n",
       " [1, 0, 1, 1],\n",
       " [0, 0, 0, 1],\n",
       " [1, 0, 0, 1],\n",
       " [0, 1, 0, 0],\n",
       " [0, 0, 0, 0],\n",
       " [0, 0, 0, 0],\n",
       " [0, 0, 1, 0],\n",
       " [1, 0, 0, 0],\n",
       " [0, 1, 0, 1],\n",
       " [1, 1, 0, 0],\n",
       " [1, 0, 0, 0],\n",
       " [1, 0, 0, 0],\n",
       " [0, 0, 1, 0],\n",
       " [0, 1, 0, 0],\n",
       " [0, 0, 0, 1],\n",
       " [0, 1, 0, 0],\n",
       " [0, 0, 0, 0],\n",
       " [1, 0, 1, 0],\n",
       " [0, 1, 0, 0],\n",
       " [0, 0, 0, 0],\n",
       " [0, 0, 0, 1],\n",
       " [0, 1, 0, 0],\n",
       " [0, 0, 1, 0],\n",
       " [1, 1, 0, 0],\n",
       " [0, 1, 1, 1],\n",
       " [0, 0, 0, 0],\n",
       " [0, 0, 0, 1],\n",
       " [0, 0, 1, 0],\n",
       " [1, 1, 0, 0],\n",
       " [1, 1, 0, 0],\n",
       " [0, 0, 1, 0],\n",
       " [0, 0, 0, 0],\n",
       " [0, 1, 1, 1],\n",
       " [1, 0, 1, 0],\n",
       " [0, 0, 0, 1],\n",
       " [1, 1, 0, 1],\n",
       " [0, 0, 0, 0],\n",
       " [0, 1, 1, 0],\n",
       " [1, 0, 0, 0],\n",
       " [0, 0, 0, 0],\n",
       " [0, 0, 0, 1],\n",
       " [1, 0, 1, 0],\n",
       " [0, 0, 0, 0],\n",
       " [1, 0, 0, 1],\n",
       " [1, 0, 1, 0],\n",
       " [0, 0, 0, 0],\n",
       " [0, 0, 1, 1],\n",
       " [0, 0, 0, 0],\n",
       " [1, 0, 0, 1]]"
      ]
     },
     "execution_count": 184,
     "metadata": {},
     "output_type": "execute_result"
    }
   ],
   "source": [
    "nei = []\n",
    "nei_vals = []\n",
    "nei_i = []\n",
    "\n",
    "for row in range(len(table)):\n",
    "  for col in range(len(table[row])):\n",
    "    n = [] #Distribucion de los vecinos es N S E O\n",
    "    n_vals = []\n",
    "    #Checar norte\n",
    "    if row == 0:\n",
    "      n.append([-1, col])\n",
    "      n_vals.append(0)\n",
    "    else:\n",
    "      n.append([row - 1,col])\n",
    "      n_vals.append(table[row - 1][col])\n",
    "    #Checar sur\n",
    "    if row == (len(table) - 1):\n",
    "      n.append([10, col])\n",
    "      n_vals.append(0)\n",
    "    else:\n",
    "      n.append([row + 1, col])\n",
    "      n_vals.append(table[row + 1][col])\n",
    "    #Checar este\n",
    "    if col == (len(table[row]) - 1):\n",
    "      n.append([row, 10])\n",
    "      n_vals.append(0)\n",
    "    else:\n",
    "      n.append([row, col + 1])\n",
    "      n_vals.append(table[row][col + 1])\n",
    "    #Checar oeste\n",
    "    if col == 0:\n",
    "      n.append([row, -1])\n",
    "      n_vals.append(0)\n",
    "    else:\n",
    "      n.append([row, col - 1])\n",
    "      n_vals.append(table[row][col - 1])\n",
    "\n",
    "    nei.append(n)\n",
    "    nei_vals.append(n_vals)\n",
    "    nei_i.append([row,col])\n",
    "nei_vals"
   ]
  },
  {
   "cell_type": "code",
   "execution_count": null,
   "metadata": {
    "id": "_Zd3K9pA7n-Y"
   },
   "outputs": [],
   "source": [
    "free_coords = []\n",
    "for i,row in enumerate(table):\n",
    "  for j,col in enumerate(row):\n",
    "    if col == 1:\n",
    "      free_coords.append([i,j])\n"
   ]
  },
  {
   "cell_type": "markdown",
   "metadata": {
    "id": "qOMgmqKXM9rR"
   },
   "source": [
    "### HMM\n"
   ]
  },
  {
   "cell_type": "code",
   "execution_count": null,
   "metadata": {
    "id": "_w2o1CU-M_AH"
   },
   "outputs": [],
   "source": [
    "error = 0.15"
   ]
  },
  {
   "cell_type": "code",
   "execution_count": null,
   "metadata": {
    "colab": {
     "base_uri": "https://localhost:8080/"
    },
    "id": "CfgJdxilDZLF",
    "outputId": "d40f2e58-11a4-4c9f-90f0-6325610a3f18"
   },
   "outputs": [
    {
     "data": {
      "text/plain": [
       "array([[0. , 1. , 0. , ..., 0. , 0. , 0. ],\n",
       "       [0.5, 0. , 0. , ..., 0. , 0. , 0. ],\n",
       "       [0. , 0. , 0. , ..., 0. , 0. , 0. ],\n",
       "       ...,\n",
       "       [0. , 0. , 0. , ..., 0. , 0. , 0. ],\n",
       "       [0. , 0. , 0. , ..., 0. , 0. , 0. ],\n",
       "       [0. , 0. , 0. , ..., 0. , 0. , 0. ]])"
      ]
     },
     "execution_count": 187,
     "metadata": {},
     "output_type": "execute_result"
    }
   ],
   "source": [
    "T = np.zeros(shape = (n_free, n_free))\n",
    "def is_neighbor(coord_1, coord_2):\n",
    "  loc = nei_i.index(coord_1)\n",
    "  if coord_2 in nei[loc]:\n",
    "    return True\n",
    "  else:\n",
    "    return False\n",
    "\n",
    "for i in range(n_free):\n",
    "  for j in range(n_free):\n",
    "    if is_neighbor(free_coords[i], free_coords[j]):\n",
    "      T[i,j] = 1/nei_vals[nei_i.index(free_coords[i])].count(1)\n",
    "    else:\n",
    "      T[i,j] = 0\n",
    "T"
   ]
  },
  {
   "cell_type": "code",
   "execution_count": null,
   "metadata": {
    "id": "oZQvdzNjK2MW"
   },
   "outputs": [],
   "source": [
    "def get_neighbors(coord):\n",
    "  index = nei_i.index(coord)\n",
    "  return nei_vals[index]"
   ]
  },
  {
   "cell_type": "code",
   "execution_count": null,
   "metadata": {
    "id": "stfbs8rrHLTz"
   },
   "outputs": [],
   "source": [
    "O = {}\n",
    "for i in range(16):\n",
    "  state = [i % 2, (i // 2) % 2, (i // 4) % 2, (i // 8) % 2]\n",
    "  observation = np.zeros(shape = [n_free, n_free])\n",
    "  for j in range(n_free):\n",
    "    discrepancy = np.sum(np.array([state]) == np.array([get_neighbors(free_coords[j])]))\n",
    "    observation[j,j] = ((1-error)**(4-discrepancy))*(error**discrepancy)\n",
    "  O[i] = observation"
   ]
  },
  {
   "cell_type": "code",
   "execution_count": null,
   "metadata": {
    "id": "qqCCwY8RPEmP"
   },
   "outputs": [],
   "source": [
    "S = {}\n",
    "\n",
    "for i in range(n_free):\n",
    "  S[i] = 'Neighbor ' + str(i)\n"
   ]
  },
  {
   "cell_type": "code",
   "execution_count": null,
   "metadata": {
    "id": "HQdL9YUSQB9e"
   },
   "outputs": [],
   "source": [
    "X0 = np.zeros(shape = [1,n_free])"
   ]
  },
  {
   "cell_type": "code",
   "execution_count": null,
   "metadata": {
    "id": "hTaP4GjYQ7P_"
   },
   "outputs": [],
   "source": [
    "for i in range(n_free):\n",
    "  X0[0,i] = 1/n_free\n",
    "X0 = X0.reshape((n_free,1))"
   ]
  },
  {
   "cell_type": "code",
   "execution_count": null,
   "metadata": {
    "id": "mmIJDKq3fBe4"
   },
   "outputs": [],
   "source": [
    "def generar_evidencia_aleatoria(n):\n",
    "  E = []\n",
    "  for i in range(n):\n",
    "    E.append(np.random.randint(2, size = [1,4]).tolist()[0])\n",
    "  return E"
   ]
  },
  {
   "cell_type": "code",
   "execution_count": null,
   "metadata": {
    "id": "y3CUA2wJRRMW"
   },
   "outputs": [],
   "source": [
    "def filtering(E, O, T, X0):\n",
    "    \n",
    "    forward = X0\n",
    "    \n",
    "    for evidence in E:\n",
    "        forward = O[evidence] @ T.T @ forward\n",
    "        forward = forward / forward.sum()\n",
    "        \n",
    "    return forward"
   ]
  },
  {
   "cell_type": "code",
   "execution_count": null,
   "metadata": {
    "id": "yMbYJ6TkRRLD"
   },
   "outputs": [],
   "source": [
    "def prediction(E, O, T, X0, k):\n",
    "    \n",
    "    prediction = np.linalg,matrix_power(T.T, k) @ filtering(E, O, T, X0)\n",
    "    \n",
    "    return prediction    "
   ]
  },
  {
   "cell_type": "code",
   "execution_count": null,
   "metadata": {
    "id": "tQbK3jWjRRIn"
   },
   "outputs": [],
   "source": [
    "def smoothing(E, O, T, X0, k):\n",
    "    \n",
    "    forward = filtering(E[:k], O, T, X0)\n",
    "    \n",
    "    backward = np.ones((T.shape[0],1))\n",
    "    \n",
    "    for evidence in E[-1:k-1:-1]:\n",
    "        backward = T @ O[evidence] @ backward\n",
    "    \n",
    "    smooth = forward * backward\n",
    "    smooth = smooth / smooth.sum()\n",
    "    \n",
    "    return smooth"
   ]
  },
  {
   "cell_type": "code",
   "execution_count": null,
   "metadata": {
    "id": "qWTuq9-FRRGI"
   },
   "outputs": [],
   "source": [
    "def most_likely_sequence(E, O, S, T, X0):\n",
    "    \n",
    "    sequences = np.zeros((T.shape[0], len(E)))\n",
    "    states = np.zeros((T.shape[0], len(E)))\n",
    "    ones = np.ones((T.shape[0], T.shape[0]))\n",
    "    sequences[:, 0] = (O[E[0]] @ X0).reshape((T.shape[0],))\n",
    "    message = sequences[:, 0].reshape((T.shape[0], 1))\n",
    "    \n",
    "    for i, evidence in enumerate(E[1:]):\n",
    "        message = (T @ O[evidence]) * (message * ones)\n",
    "        states[:, i+1] = np.argmax(message, axis=0).reshape((T.shape[0],))\n",
    "        message = np.max(message, axis=0).reshape((T.shape[0], 1))\n",
    "        sequences[:, i+1] = message.reshape((T.shape[0],))\n",
    "        \n",
    "    states = states.astype('int32')\n",
    "    s = np.argmax(sequences[:, -1], axis=0)\n",
    "    best_sequence = [S[s]]\n",
    "    \n",
    "    for i in range(len(E)-1, 0, -1):\n",
    "        s = states[s, i]\n",
    "        best_sequence.append(S[s])\n",
    "        \n",
    "    best_sequence = best_sequence[::-1] \n",
    "    \n",
    "    return sequences, states, best_sequence        "
   ]
  },
  {
   "cell_type": "code",
   "execution_count": null,
   "metadata": {
    "colab": {
     "base_uri": "https://localhost:8080/",
     "height": 272
    },
    "id": "4lR7ktGWRc8J",
    "outputId": "a971988a-3645-489c-df52-efc9f42d0ad3"
   },
   "outputs": [
    {
     "data": {
      "image/png": "[encoded data removed]",
      "text/plain": [
       "<Figure size 432x288 with 2 Axes>"
      ]
     },
     "metadata": {
      "needs_background": "light"
     },
     "output_type": "display_data"
    }
   ],
   "source": [
    "ax = sns.heatmap(T)"
   ]
  },
  {
   "cell_type": "code",
   "execution_count": null,
   "metadata": {
    "id": "bmdxAhlJZhOG"
   },
   "outputs": [],
   "source": [
    "def definir_evidencia(E):\n",
    "  Evidence = []\n",
    "  for e in E:\n",
    "    for i in range(16):\n",
    "      state = [i % 2, (i // 2) % 2, (i // 4) % 2, (i // 8) % 2]\n",
    "      if e == state:\n",
    "        Evidence.append(i)\n",
    "        break\n",
    "\n",
    "  return Evidence"
   ]
  },
  {
   "cell_type": "code",
   "execution_count": null,
   "metadata": {
    "id": "K8R1gczER0BY"
   },
   "outputs": [],
   "source": [
    "evidence = generar_evidencia_aleatoria(4) \n",
    "E = definir_evidencia(evidence)"
   ]
  },
  {
   "cell_type": "code",
   "execution_count": null,
   "metadata": {
    "colab": {
     "base_uri": "https://localhost:8080/"
    },
    "id": "akTDPEpqfoCe",
    "outputId": "2adedd6f-afc0-4d6e-aaef-f6c4dd17f2c1"
   },
   "outputs": [
    {
     "data": {
      "text/plain": [
       "[[1, 0, 0, 1], [1, 0, 0, 1], [1, 1, 1, 1], [0, 1, 1, 0]]"
      ]
     },
     "execution_count": 222,
     "metadata": {},
     "output_type": "execute_result"
    }
   ],
   "source": [
    "evidence"
   ]
  },
  {
   "cell_type": "code",
   "execution_count": null,
   "metadata": {
    "colab": {
     "base_uri": "https://localhost:8080/",
     "height": 267
    },
    "id": "Xm1caB0wclSZ",
    "outputId": "583a9fcc-1b7f-4461-e26a-c667fd128e97"
   },
   "outputs": [
    {
     "data": {
      "image/png": "[encoded data removed]",
      "text/plain": [
       "<Figure size 432x288 with 2 Axes>"
      ]
     },
     "metadata": {
      "needs_background": "light"
     },
     "output_type": "display_data"
    }
   ],
   "source": [
    "#filtering(E, O, T, X0)\n",
    "ax = sns.heatmap(filtering(E, O, T, X0))"
   ]
  },
  {
   "cell_type": "code",
   "execution_count": null,
   "metadata": {
    "colab": {
     "base_uri": "https://localhost:8080/",
     "height": 284
    },
    "id": "f1f8X14RVySk",
    "outputId": "5b5a1085-1ec4-42e3-8a4d-cec6d32117da"
   },
   "outputs": [
    {
     "name": "stdout",
     "output_type": "stream",
     "text": [
      "La más probable posición del robot en el movimiento 4 es: [0, 5] 3\n"
     ]
    },
    {
     "data": {
      "image/png": "[encoded data removed]",
      "text/plain": [
       "<Figure size 432x288 with 2 Axes>"
      ]
     },
     "metadata": {
      "needs_background": "light"
     },
     "output_type": "display_data"
    }
   ],
   "source": [
    "mov_10 = prediction(E,O,T,X0,4)\n",
    "ind = np.where(mov_10[1] == np.amax(mov_10[1]))\n",
    "print('La más probable posición del robot en el movimiento 4 es:', free_coords[ind[0][0]], ind[0][0])\n",
    "ax = sns.heatmap(mov_10[1])"
   ]
  },
  {
   "cell_type": "code",
   "execution_count": null,
   "metadata": {
    "colab": {
     "base_uri": "https://localhost:8080/",
     "height": 267
    },
    "id": "rYipHK-faQCI",
    "outputId": "93e40f7f-2c54-4654-e08a-4a6293af170c"
   },
   "outputs": [
    {
     "data": {
      "image/png": "[encoded data removed]",
      "text/plain": [
       "<Figure size 432x288 with 2 Axes>"
      ]
     },
     "metadata": {
      "needs_background": "light"
     },
     "output_type": "display_data"
    }
   ],
   "source": [
    "ax = sns.heatmap(smoothing(E,O,T,X0,1))"
   ]
  },
  {
   "cell_type": "code",
   "execution_count": null,
   "metadata": {
    "colab": {
     "base_uri": "https://localhost:8080/",
     "height": 269
    },
    "id": "OFtFkq8heekX",
    "outputId": "a0aba45b-c2d7-4f2e-ca47-f28ed489c661"
   },
   "outputs": [
    {
     "data": {
      "image/png": "[encoded data removed]",
      "text/plain": [
       "<Figure size 432x288 with 2 Axes>"
      ]
     },
     "metadata": {
      "needs_background": "light"
     },
     "output_type": "display_data"
    }
   ],
   "source": [
    "ax = sns.heatmap(table)"
   ]
  },
  {
   "cell_type": "code",
   "execution_count": null,
   "metadata": {
    "colab": {
     "base_uri": "https://localhost:8080/",
     "height": 173
    },
    "id": "ZKQ6_lWhajKr",
    "outputId": "c936298a-ed0c-4df6-f164-13cde8bbcb5c"
   },
   "outputs": [
    {
     "data": {
      "text/html": [
       "<div>\n",
       "<style scoped>\n",
       "    .dataframe tbody tr th:only-of-type {\n",
       "        vertical-align: middle;\n",
       "    }\n",
       "\n",
       "    .dataframe tbody tr th {\n",
       "        vertical-align: top;\n",
       "    }\n",
       "\n",
       "    .dataframe thead th {\n",
       "        text-align: right;\n",
       "    }\n",
       "</style>\n",
       "<table border=\"1\" class=\"dataframe\">\n",
       "  <thead>\n",
       "    <tr style=\"text-align: right;\">\n",
       "      <th></th>\n",
       "      <th>0</th>\n",
       "    </tr>\n",
       "  </thead>\n",
       "  <tbody>\n",
       "    <tr>\n",
       "      <th>0</th>\n",
       "      <td>Neighbor 4</td>\n",
       "    </tr>\n",
       "    <tr>\n",
       "      <th>1</th>\n",
       "      <td>Neighbor 3</td>\n",
       "    </tr>\n",
       "    <tr>\n",
       "      <th>2</th>\n",
       "      <td>Neighbor 8</td>\n",
       "    </tr>\n",
       "    <tr>\n",
       "      <th>3</th>\n",
       "      <td>Neighbor 9</td>\n",
       "    </tr>\n",
       "  </tbody>\n",
       "</table>\n",
       "</div>"
      ],
      "text/plain": [
       "            0\n",
       "0  Neighbor 4\n",
       "1  Neighbor 3\n",
       "2  Neighbor 8\n",
       "3  Neighbor 9"
      ]
     },
     "execution_count": 227,
     "metadata": {},
     "output_type": "execute_result"
    }
   ],
   "source": [
    "secuencias, estados, mejorSecuencia = most_likely_sequence(E,O,S,T,X0)\n",
    "pd.DataFrame(mejorSecuencia)"
   ]
  },
  {
   "cell_type": "code",
   "execution_count": null,
   "metadata": {
    "colab": {
     "base_uri": "https://localhost:8080/"
    },
    "id": "HmAxy15teuFC",
    "outputId": "90b0017c-9da7-4559-a870-bde4bac60a67"
   },
   "outputs": [
    {
     "name": "stdout",
     "output_type": "stream",
     "text": [
      "[0, 6]\n",
      "[0, 5]\n",
      "[1, 5]\n",
      "[1, 6]\n"
     ]
    }
   ],
   "source": [
    "print(free_coords[4])\n",
    "print(free_coords[3])\n",
    "print(free_coords[8])\n",
    "print(free_coords[9])"
   ]
  },
  {
   "cell_type": "markdown",
   "metadata": {},
   "source": [
    "## Conclusiones"
   ]
  },
  {
   "cell_type": "markdown",
   "metadata": {},
   "source": [
    "Como se muestra en los resultados de nuestro código, obtuvimos la mejor secuencia en la que el robot se desplaza a cuatro lugares diferentes usando la función de inferencia de “most likely sequence”, tanto eso como las predicciones y los otros modelos dan certeza de que los resultados concuerdan. El poder plasmar en el mapa de calor tanto el mapa como los resultados nos ayudó a  concluir que es eficiente nuestro modelo, ya que evita los obstáculos establecidos satisfactoriamente y la ruta que se obtuvo es viable para poder asumir que el robot se encuentra por la zona predicha. Asimismo, gracias a que nuestro tablero y evidencias son aleatorias, esto demuestra que el robot puede adaptarse a cambios, objetivo principal de la cadena de Markov."
   ]
  }
 ],
 "metadata": {
  "colab": {
   "collapsed_sections": [],
   "name": "Actividad_PBL3_E4_bonito",
   "provenance": []
  },
  "kernelspec": {
   "display_name": "Python 3",
   "language": "python",
   "name": "python3"
  },
  "language_info": {
   "codemirror_mode": {
    "name": "ipython",
    "version": 3
   },
   "file_extension": ".py",
   "mimetype": "text/x-python",
   "name": "python",
   "nbconvert_exporter": "python",
   "pygments_lexer": "ipython3",
   "version": "3.8.5"
  }
 },
 "nbformat": 4,
 "nbformat_minor": 1
}
